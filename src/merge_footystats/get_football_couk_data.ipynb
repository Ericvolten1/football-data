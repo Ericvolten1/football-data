{
 "cells": [
  {
   "cell_type": "code",
   "execution_count": 1,
   "metadata": {},
   "outputs": [
    {
     "data": {
      "text/plain": [
       "'/Users/nikhilshukla/Desktop/football-data/src/merge_footystats'"
      ]
     },
     "execution_count": 1,
     "metadata": {},
     "output_type": "execute_result"
    }
   ],
   "source": [
    "import os\n",
    "os.getcwd()"
   ]
  },
  {
   "cell_type": "code",
   "execution_count": 2,
   "metadata": {},
   "outputs": [
    {
     "data": {
      "text/plain": [
       "'/Users/nikhilshukla/Desktop/football-data/src/merge_footystats/merge_data'"
      ]
     },
     "execution_count": 2,
     "metadata": {},
     "output_type": "execute_result"
    }
   ],
   "source": [
    "os.chdir(os.getcwd()+('/merge_data/'))\n",
    "os.getcwd()"
   ]
  },
  {
   "cell_type": "code",
   "execution_count": 3,
   "metadata": {},
   "outputs": [
    {
     "name": "stdout",
     "output_type": "stream",
     "text": [
      "/Users/nikhilshukla/Desktop/football-data/src/merge_footystats/merge_data/football_odds_data/B1.csv\n",
      "/Users/nikhilshukla/Desktop/football-data/src/merge_footystats/merge_data/football_odds_data/REP.csv\n",
      "/Users/nikhilshukla/Desktop/football-data/src/merge_footystats/merge_data/football_odds_data/N1.csv\n",
      "/Users/nikhilshukla/Desktop/football-data/src/merge_footystats/merge_data/football_odds_data/ARG.csv\n",
      "/Users/nikhilshukla/Desktop/football-data/src/merge_footystats/merge_data/football_odds_data/SC1.csv\n",
      "/Users/nikhilshukla/Desktop/football-data/src/merge_footystats/merge_data/football_odds_data/SC0.csv\n",
      "/Users/nikhilshukla/Desktop/football-data/src/merge_footystats/merge_data/football_odds_data/E0.csv\n",
      "/Users/nikhilshukla/Desktop/football-data/src/merge_footystats/merge_data/football_odds_data/P1.csv\n",
      "/Users/nikhilshukla/Desktop/football-data/src/merge_footystats/merge_data/football_odds_data/AUS.csv\n",
      "/Users/nikhilshukla/Desktop/football-data/src/merge_footystats/merge_data/football_odds_data/E1.csv\n",
      "/Users/nikhilshukla/Desktop/football-data/src/merge_footystats/merge_data/football_odds_data/I2.csv\n",
      "/Users/nikhilshukla/Desktop/football-data/src/merge_footystats/merge_data/football_odds_data/E2.csv\n",
      "/Users/nikhilshukla/Desktop/football-data/src/merge_footystats/merge_data/football_odds_data/I1.csv\n",
      "/Users/nikhilshukla/Desktop/football-data/src/merge_footystats/merge_data/football_odds_data/BRA.csv\n",
      "/Users/nikhilshukla/Desktop/football-data/src/merge_footystats/merge_data/football_odds_data/D2.csv\n",
      "/Users/nikhilshukla/Desktop/football-data/src/merge_footystats/merge_data/football_odds_data/SP1.csv\n",
      "/Users/nikhilshukla/Desktop/football-data/src/merge_footystats/merge_data/football_odds_data/D1.csv\n",
      "/Users/nikhilshukla/Desktop/football-data/src/merge_footystats/merge_data/football_odds_data/SP2.csv\n",
      "/Users/nikhilshukla/Desktop/football-data/src/merge_footystats/merge_data/football_odds_data/G1.csv\n",
      "/Users/nikhilshukla/Desktop/football-data/src/merge_footystats/merge_data/football_odds_data/USA.csv\n",
      "/Users/nikhilshukla/Desktop/football-data/src/merge_footystats/merge_data/football_odds_data/F2.csv\n",
      "/Users/nikhilshukla/Desktop/football-data/src/merge_footystats/merge_data/football_odds_data/F1.csv\n",
      "/Users/nikhilshukla/Desktop/football-data/src/merge_footystats/merge_data/football_odds_data/T1.csv\n",
      "/Users/nikhilshukla/Desktop/football-data/src/merge_footystats/merge_data/football_odds_data/JAP.csv\n"
     ]
    }
   ],
   "source": [
    "import requests\n",
    "import os\n",
    "import pandas as pd\n",
    "import shutil\n",
    "from pathlib import Path\n",
    "\n",
    "\"\"\"\n",
    "Remove existing files to avoid discrepency\n",
    "\"\"\"\n",
    "\n",
    "import glob, os, os.path\n",
    "\n",
    "\n",
    "base_path = os.getcwd()\n",
    "#path = os.chdir(base_path+('/../'))\n",
    "path_fixtures = base_path+('/football_odds_data/')\n",
    "filelist = glob.glob(os.path.join(path_fixtures, \"*.csv\"))\n",
    "\n",
    "for f in filelist:\n",
    "    print(f)\n",
    "    os.remove(f)"
   ]
  },
  {
   "cell_type": "code",
   "execution_count": 4,
   "metadata": {},
   "outputs": [
    {
     "data": {
      "text/plain": [
       "'/Users/nikhilshukla/Desktop/football-data/src/merge_footystats/merge_data/football_odds_data'"
      ]
     },
     "execution_count": 4,
     "metadata": {},
     "output_type": "execute_result"
    }
   ],
   "source": [
    "os.chdir(os.getcwd()+('/football_odds_data/'))\n",
    "os.getcwd()"
   ]
  },
  {
   "cell_type": "code",
   "execution_count": 5,
   "metadata": {},
   "outputs": [],
   "source": [
    "\n",
    "\"\"\"\n",
    "Scraper to get all the latest csv files from football data co uk\n",
    "\"\"\"\n",
    "\n",
    "#base_path = os.chdir(os.getcwd()+'/football_odds_data/')\n",
    "\n",
    "base_link = 'https://www.football-data.co.uk/new/'\n",
    "curr_season = 'https://www.football-data.co.uk/mmz4281/2223/'\n",
    "file_list = [base_link+('ARG.csv'),base_link+('AUT.csv'), base_link+('BRA.csv'),base_link+('IRL.csv'),\n",
    "            curr_season+('E0.csv'),curr_season+('E1.csv'),curr_season+('E2.csv'),curr_season+('E3.csv'),\n",
    "            curr_season+('EC.csv'),curr_season+('D1.csv'),curr_season+('D2.csv'),curr_season+('I1.csv'),curr_season+('I2.csv'),\n",
    "            curr_season+('F1.csv'),curr_season+('F2.csv'),curr_season+('N1.csv'),base_link+('CHN.csv'),\n",
    "            base_link+('DNK.csv'),base_link+('FIN.csv'),base_link+('MEX.csv'),base_link+('NOR.csv'),\n",
    "            base_link+('JPN.csv'),base_link+('USA.csv'),base_link+('ROU.csv'),base_link+('POL.csv'),\n",
    "            curr_season+('B1.csv'),curr_season+('G1.csv'),base_link+('SWE.csv'),base_link+('SWZ.csv'),\n",
    "            curr_season+('P1.csv'),curr_season+('T1.csv'),curr_season+('SP1.csv'),\n",
    "            curr_season+('D2.csv'),curr_season+('SC0.csv'),curr_season+('SP2.csv'),\n",
    "            curr_season+('SC1.csv'),curr_season+('SC2.csv'),curr_season+('SC3.csv')]\n",
    "for file in file_list:\n",
    "    req = requests.get(file)\n",
    "    filename = req.url[file.rfind('/')+1:]\n",
    "\n",
    "    with open(filename, 'wb') as f:\n",
    "        for chunk in req.iter_content(chunk_size=8192):\n",
    "            if chunk:\n",
    "                    f.write(chunk)"
   ]
  },
  {
   "cell_type": "code",
   "execution_count": 6,
   "metadata": {},
   "outputs": [],
   "source": [
    "\"\"\"\n",
    "Changing the name standards as to keep up with footystats data\n",
    "\"\"\"\n",
    "if Path('JPN.csv').is_file():\n",
    "    os.rename('JPN.csv','JAP.csv')\n",
    "if Path('IRL.csv').is_file():\n",
    "    os.rename('IRL.csv','REP.csv')\n",
    "if Path('AUT.csv').is_file():\n",
    "    os.rename('AUT.csv','AUS.csv')    \n"
   ]
  }
 ],
 "metadata": {
  "kernelspec": {
   "display_name": "Python 3.9.6 64-bit",
   "language": "python",
   "name": "python3"
  },
  "language_info": {
   "codemirror_mode": {
    "name": "ipython",
    "version": 3
   },
   "file_extension": ".py",
   "mimetype": "text/x-python",
   "name": "python",
   "nbconvert_exporter": "python",
   "pygments_lexer": "ipython3",
   "version": "3.9.6"
  },
  "orig_nbformat": 4,
  "vscode": {
   "interpreter": {
    "hash": "7812ea015bdcee6f23a998adcdd2ef97c151c0c241b7b7070987d9313e41299d"
   }
  }
 },
 "nbformat": 4,
 "nbformat_minor": 2
}
