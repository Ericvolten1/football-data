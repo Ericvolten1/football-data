{
 "cells": [
  {
   "cell_type": "code",
   "execution_count": 2,
   "metadata": {},
   "outputs": [
    {
     "data": {
      "text/plain": [
       "'/Users/nikhilshukla/Desktop/football-data/src/merge_footystats/merge_data'"
      ]
     },
     "execution_count": 2,
     "metadata": {},
     "output_type": "execute_result"
    }
   ],
   "source": [
    "import os\n",
    "os.chdir(os.getcwd()+('/merge_data/'))\n",
    "os.getcwd()"
   ]
  },
  {
   "cell_type": "code",
   "execution_count": 7,
   "metadata": {},
   "outputs": [
    {
     "data": {
      "text/plain": [
       "'/Users/nikhilshukla/Desktop/football-data/src/merge_footystats/merge_data/football_odds_data'"
      ]
     },
     "execution_count": 7,
     "metadata": {},
     "output_type": "execute_result"
    }
   ],
   "source": [
    "os.getcwd()"
   ]
  },
  {
   "cell_type": "code",
   "execution_count": 8,
   "metadata": {},
   "outputs": [],
   "source": [
    "import requests\n",
    "import os\n",
    "import pandas as pd\n",
    "import shutil\n",
    "from pathlib import Path\n",
    "\n",
    "\"\"\"\n",
    "Remove existing files to avoid discrepency\n",
    "\"\"\"\n",
    "\n",
    "import glob, os, os.path\n",
    "\n",
    "\n",
    "base_path = os.getcwd()\n",
    "#path = os.chdir(base_path+('/../'))\n",
    "path_fixtures = base_path+('/football_odds_data/')\n",
    "filelist = glob.glob(os.path.join(path_fixtures, \"*.csv\"))\n",
    "\n",
    "for f in filelist:\n",
    "    print(f)\n",
    "    os.remove(f)"
   ]
  },
  {
   "cell_type": "code",
   "execution_count": 10,
   "metadata": {},
   "outputs": [
    {
     "ename": "FileNotFoundError",
     "evalue": "[Errno 2] No such file or directory: '/Users/nikhilshukla/Desktop/football-data/src/merge_footystats/merge_data/football_odds_data/football_odds_data/'",
     "output_type": "error",
     "traceback": [
      "\u001b[0;31m---------------------------------------------------------------------------\u001b[0m",
      "\u001b[0;31mFileNotFoundError\u001b[0m                         Traceback (most recent call last)",
      "\u001b[1;32m/Users/nikhilshukla/Desktop/football-data/src/merge_footystats/get_football_couk_data.ipynb Cell 4\u001b[0m in \u001b[0;36m<module>\u001b[0;34m\u001b[0m\n\u001b[1;32m      <a href='vscode-notebook-cell:/Users/nikhilshukla/Desktop/football-data/src/merge_footystats/get_football_couk_data.ipynb#ch0000003?line=0'>1</a>\u001b[0m \u001b[39m\"\"\"\u001b[39;00m\n\u001b[1;32m      <a href='vscode-notebook-cell:/Users/nikhilshukla/Desktop/football-data/src/merge_footystats/get_football_couk_data.ipynb#ch0000003?line=1'>2</a>\u001b[0m \u001b[39mScraper to get all the latest csv files from football data co uk\u001b[39;00m\n\u001b[1;32m      <a href='vscode-notebook-cell:/Users/nikhilshukla/Desktop/football-data/src/merge_footystats/get_football_couk_data.ipynb#ch0000003?line=2'>3</a>\u001b[0m \u001b[39m\"\"\"\u001b[39;00m\n\u001b[0;32m----> <a href='vscode-notebook-cell:/Users/nikhilshukla/Desktop/football-data/src/merge_footystats/get_football_couk_data.ipynb#ch0000003?line=4'>5</a>\u001b[0m base_path \u001b[39m=\u001b[39m os\u001b[39m.\u001b[39;49mchdir(os\u001b[39m.\u001b[39;49mgetcwd()\u001b[39m+\u001b[39;49m\u001b[39m'\u001b[39;49m\u001b[39m/football_odds_data/\u001b[39;49m\u001b[39m'\u001b[39;49m)\n\u001b[1;32m      <a href='vscode-notebook-cell:/Users/nikhilshukla/Desktop/football-data/src/merge_footystats/get_football_couk_data.ipynb#ch0000003?line=6'>7</a>\u001b[0m base_link \u001b[39m=\u001b[39m \u001b[39m'\u001b[39m\u001b[39mhttps://www.football-data.co.uk/new/\u001b[39m\u001b[39m'\u001b[39m\n\u001b[1;32m      <a href='vscode-notebook-cell:/Users/nikhilshukla/Desktop/football-data/src/merge_footystats/get_football_couk_data.ipynb#ch0000003?line=7'>8</a>\u001b[0m curr_season \u001b[39m=\u001b[39m \u001b[39m'\u001b[39m\u001b[39mhttps://www.football-data.co.uk/mmz4281/2223/\u001b[39m\u001b[39m'\u001b[39m\n",
      "\u001b[0;31mFileNotFoundError\u001b[0m: [Errno 2] No such file or directory: '/Users/nikhilshukla/Desktop/football-data/src/merge_footystats/merge_data/football_odds_data/football_odds_data/'"
     ]
    }
   ],
   "source": [
    "\n",
    "\"\"\"\n",
    "Scraper to get all the latest csv files from football data co uk\n",
    "\"\"\"\n",
    "\n",
    "base_path = os.chdir(os.getcwd()+'/football_odds_data/')\n",
    "\n",
    "base_link = 'https://www.football-data.co.uk/new/'\n",
    "curr_season = 'https://www.football-data.co.uk/mmz4281/2223/'\n",
    "file_list = [base_link+('ARG.csv'), base_link+('BRA.csv'),base_link+('IRL.csv'),\n",
    "             base_link+('JPN.csv'),base_link+('USA.csv'),curr_season+('B1.csv')]\n",
    "for file in file_list:\n",
    "    req = requests.get(file)\n",
    "    filename = req.url[file.rfind('/')+1:]\n",
    "\n",
    "    with open(filename, 'wb') as f:\n",
    "        for chunk in req.iter_content(chunk_size=8192):\n",
    "            if chunk:\n",
    "                    f.write(chunk)"
   ]
  },
  {
   "cell_type": "code",
   "execution_count": 5,
   "metadata": {},
   "outputs": [],
   "source": [
    "\"\"\"\n",
    "Changing the name standards as to keep up with footystats data\n",
    "\"\"\"\n",
    "if Path('JPN.csv').is_file():\n",
    "    os.rename('JPN.csv','JAP.csv')\n",
    "if Path('IRL.csv').is_file():\n",
    "    os.rename('IRL.csv','REP.csv')\n"
   ]
  }
 ],
 "metadata": {
  "kernelspec": {
   "display_name": "Python 3.9.6 64-bit",
   "language": "python",
   "name": "python3"
  },
  "language_info": {
   "codemirror_mode": {
    "name": "ipython",
    "version": 3
   },
   "file_extension": ".py",
   "mimetype": "text/x-python",
   "name": "python",
   "nbconvert_exporter": "python",
   "pygments_lexer": "ipython3",
   "version": "3.9.6"
  },
  "orig_nbformat": 4,
  "vscode": {
   "interpreter": {
    "hash": "7812ea015bdcee6f23a998adcdd2ef97c151c0c241b7b7070987d9313e41299d"
   }
  }
 },
 "nbformat": 4,
 "nbformat_minor": 2
}
