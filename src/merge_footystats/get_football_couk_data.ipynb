{
 "cells": [
  {
   "cell_type": "code",
   "execution_count": 1,
   "metadata": {},
   "outputs": [
    {
     "data": {
      "text/plain": [
       "'/Users/nikhilshukla/Desktop/football-data/src/merge_footystats'"
      ]
     },
     "execution_count": 1,
     "metadata": {},
     "output_type": "execute_result"
    }
   ],
   "source": [
    "os.getcwd()"
   ]
  },
  {
   "cell_type": "code",
   "execution_count": 2,
   "metadata": {},
   "outputs": [
    {
     "data": {
      "text/plain": [
       "'/Users/nikhilshukla/Desktop/football-data/src/merge_footystats/merge_data'"
      ]
     },
     "execution_count": 2,
     "metadata": {},
     "output_type": "execute_result"
    }
   ],
   "source": [
    "import os\n",
    "os.chdir(os.getcwd()+('/merge_data/'))\n",
    "os.getcwd()"
   ]
  },
  {
   "cell_type": "code",
   "execution_count": 3,
   "metadata": {},
   "outputs": [
    {
     "name": "stdout",
     "output_type": "stream",
     "text": [
      "/Users/nikhilshukla/Desktop/football-data/src/merge_footystats/merge_data/football_odds_data/B1.csv\n",
      "/Users/nikhilshukla/Desktop/football-data/src/merge_footystats/merge_data/football_odds_data/REP.csv\n",
      "/Users/nikhilshukla/Desktop/football-data/src/merge_footystats/merge_data/football_odds_data/ARG.csv\n",
      "/Users/nikhilshukla/Desktop/football-data/src/merge_footystats/merge_data/football_odds_data/BRA.csv\n",
      "/Users/nikhilshukla/Desktop/football-data/src/merge_footystats/merge_data/football_odds_data/D2.csv\n",
      "/Users/nikhilshukla/Desktop/football-data/src/merge_footystats/merge_data/football_odds_data/USA.csv\n",
      "/Users/nikhilshukla/Desktop/football-data/src/merge_footystats/merge_data/football_odds_data/JAP.csv\n"
     ]
    }
   ],
   "source": [
    "import requests\n",
    "import os\n",
    "import pandas as pd\n",
    "import shutil\n",
    "from pathlib import Path\n",
    "\n",
    "\"\"\"\n",
    "Remove existing files to avoid discrepency\n",
    "\"\"\"\n",
    "\n",
    "import glob, os, os.path\n",
    "\n",
    "\n",
    "base_path = os.getcwd()\n",
    "#path = os.chdir(base_path+('/../'))\n",
    "path_fixtures = base_path+('/football_odds_data/')\n",
    "filelist = glob.glob(os.path.join(path_fixtures, \"*.csv\"))\n",
    "\n",
    "for f in filelist:\n",
    "    print(f)\n",
    "    os.remove(f)"
   ]
  },
  {
   "cell_type": "code",
   "execution_count": 7,
   "metadata": {},
   "outputs": [
    {
     "data": {
      "text/plain": [
       "'/Users/nikhilshukla/Desktop/football-data/src/merge_footystats/merge_data/football_odds_data'"
      ]
     },
     "execution_count": 7,
     "metadata": {},
     "output_type": "execute_result"
    }
   ],
   "source": [
    "os.chdir(os.getcwd()+('/football_odds_data/'))\n",
    "os.getcwd()"
   ]
  },
  {
   "cell_type": "code",
   "execution_count": 8,
   "metadata": {},
   "outputs": [],
   "source": [
    "\n",
    "\"\"\"\n",
    "Scraper to get all the latest csv files from football data co uk\n",
    "\"\"\"\n",
    "\n",
    "#base_path = os.chdir(os.getcwd()+'/football_odds_data/')\n",
    "\n",
    "base_link = 'https://www.football-data.co.uk/new/'\n",
    "curr_season = 'https://www.football-data.co.uk/mmz4281/2223/'\n",
    "file_list = [base_link+('ARG.csv'), base_link+('BRA.csv'),base_link+('IRL.csv'),\n",
    "             base_link+('JPN.csv'),base_link+('USA.csv'),curr_season+('B1.csv'),\n",
    "             curr_season+('D2.csv'),curr_season+('SC0.csv')]\n",
    "for file in file_list:\n",
    "    req = requests.get(file)\n",
    "    filename = req.url[file.rfind('/')+1:]\n",
    "\n",
    "    with open(filename, 'wb') as f:\n",
    "        for chunk in req.iter_content(chunk_size=8192):\n",
    "            if chunk:\n",
    "                    f.write(chunk)"
   ]
  },
  {
   "cell_type": "code",
   "execution_count": 9,
   "metadata": {},
   "outputs": [],
   "source": [
    "\"\"\"\n",
    "Changing the name standards as to keep up with footystats data\n",
    "\"\"\"\n",
    "if Path('JPN.csv').is_file():\n",
    "    os.rename('JPN.csv','JAP.csv')\n",
    "if Path('IRL.csv').is_file():\n",
    "    os.rename('IRL.csv','REP.csv')\n"
   ]
  }
 ],
 "metadata": {
  "kernelspec": {
   "display_name": "Python 3.9.6 64-bit",
   "language": "python",
   "name": "python3"
  },
  "language_info": {
   "codemirror_mode": {
    "name": "ipython",
    "version": 3
   },
   "file_extension": ".py",
   "mimetype": "text/x-python",
   "name": "python",
   "nbconvert_exporter": "python",
   "pygments_lexer": "ipython3",
   "version": "3.9.6"
  },
  "orig_nbformat": 4,
  "vscode": {
   "interpreter": {
    "hash": "7812ea015bdcee6f23a998adcdd2ef97c151c0c241b7b7070987d9313e41299d"
   }
  }
 },
 "nbformat": 4,
 "nbformat_minor": 2
}
