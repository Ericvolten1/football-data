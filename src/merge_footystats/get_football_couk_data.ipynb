{
 "cells": [
  {
   "cell_type": "code",
   "execution_count": 1,
   "metadata": {},
   "outputs": [],
   "source": [
    "import requests\n",
    "import os\n",
    "import shutil\n",
    "from pathlib import Path\n",
    "\n",
    "\"\"\"\n",
    "Scraper to get all the latest csv files from football data co uk\n",
    "\"\"\"\n",
    "\n",
    "base_path = os.chdir(os.getcwd()+'/merge_data/football_odds_data/')\n",
    "\n",
    "base_link = 'https://www.football-data.co.uk/new/'\n",
    "file_list = [base_link+('ARG.csv'), base_link+('BRA.csv'),base_link+('IRL.csv'),\n",
    "             base_link+('JPN.csv'),base_link+('USA.csv')]\n",
    "for file in file_list:\n",
    "    req = requests.get(file)\n",
    "    filename = req.url[file.rfind('/')+1:]\n",
    "\n",
    "    with open(filename, 'wb') as f:\n",
    "        for chunk in req.iter_content(chunk_size=8192):\n",
    "            if chunk:\n",
    "                    f.write(chunk)"
   ]
  },
  {
   "cell_type": "code",
   "execution_count": 11,
   "metadata": {},
   "outputs": [],
   "source": [
    "\"\"\"\n",
    "Changing the name standards as to keep up with footystats data\n",
    "\"\"\"\n",
    "if Path('JPN.csv').is_file():\n",
    "    os.rename('JPN.csv','JAP.csv')\n",
    "if Path('IRL.csv').is_file():\n",
    "    os.rename('IRL.csv','REP.csv')\n"
   ]
  }
 ],
 "metadata": {
  "kernelspec": {
   "display_name": "Python 3.9.6 64-bit",
   "language": "python",
   "name": "python3"
  },
  "language_info": {
   "codemirror_mode": {
    "name": "ipython",
    "version": 3
   },
   "file_extension": ".py",
   "mimetype": "text/x-python",
   "name": "python",
   "nbconvert_exporter": "python",
   "pygments_lexer": "ipython3",
   "version": "3.9.6"
  },
  "orig_nbformat": 4,
  "vscode": {
   "interpreter": {
    "hash": "7812ea015bdcee6f23a998adcdd2ef97c151c0c241b7b7070987d9313e41299d"
   }
  }
 },
 "nbformat": 4,
 "nbformat_minor": 2
}
