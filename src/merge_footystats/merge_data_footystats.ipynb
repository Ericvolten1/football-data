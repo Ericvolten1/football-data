{
 "cells": [
  {
   "cell_type": "code",
   "execution_count": 1,
   "metadata": {},
   "outputs": [],
   "source": [
    "import pandas as pd\n",
    "import os\n",
    "import glob \n",
    "from datetime import datetime\n"
   ]
  },
  {
   "cell_type": "markdown",
   "metadata": {},
   "source": [
    "##### Generate the columns for merge of footystats and football odds "
   ]
  },
  {
   "cell_type": "code",
   "execution_count": 2,
   "metadata": {},
   "outputs": [],
   "source": [
    "\"\"\" \n",
    "The following columns are not required for analysis.\n",
    "Hence, they are dropped.\n",
    "\"\"\"\n",
    "cols= ['timestamp', 'date_GMT', 'status', 'attendance', \n",
    "       'referee', 'GameWeek', 'Pre-MatchPPG(Home)', 'Pre-MatchPPG(Away)',\n",
    "       'home_ppg', 'away_ppg',  \n",
    "       'home_team_goal_timings', 'away_team_goal_timings',\n",
    "       'home_team_first_half_cards', 'home_team_second_half_cards',\n",
    "       'away_team_first_half_cards', 'away_team_second_half_cards',\n",
    "       'home_team_shots_off_target',\n",
    "       'away_team_shots_off_target',\n",
    "       'home_team_possession', 'away_team_possession', 'team_a_xg',\n",
    "       'team_b_xg', 'average_goals_per_match_pre_match',\n",
    "       'btts_percentage_pre_match', 'over_15_percentage_pre_match',\n",
    "       'over_25_percentage_pre_match', 'over_35_percentage_pre_match',\n",
    "       'over_45_percentage_pre_match', 'over_15_HT_FHG_percentage_pre_match',\n",
    "       'over_05_HT_FHG_percentage_pre_match',\n",
    "       'over_15_2HG_percentage_pre_match', 'over_05_2HG_percentage_pre_match',\n",
    "       'average_corners_per_match_pre_match',\n",
    "       'average_cards_per_match_pre_match', 'odds_ft_home_team_win',\n",
    "       'odds_ft_draw', 'odds_ft_away_team_win', 'odds_ft_over15',\n",
    "       'odds_ft_over25', 'odds_ft_over35', 'odds_ft_over45', 'odds_btts_yes',\n",
    "       'odds_btts_no', 'stadium_name','Country', 'League', 'Season',\n",
    "       'Time', 'HG', 'AG', 'Res', 'MaxH', 'MaxD', 'MaxA']\n",
    "\n",
    "\"\"\" Renaming all the columns as per ML modelling featues\"\"\"\n",
    "\n",
    "dict_merge ={'Home': 'HomeTeam',\n",
    "       'Away': 'AwayTeam',\n",
    "       'home_team_goal_count': 'FTHG',\n",
    "       'away_team_goal_count': 'FTAG',\n",
    "       'home_team_goal_count_half_time': 'HTHG', \n",
    "       'away_team_goal_count_half_time': 'HTAG',\n",
    "       'home_team_shots': 'HS',\n",
    "       'away_team_shots': 'AS',\n",
    "       'home_team_shots_on_target': 'HST',\n",
    "       'away_team_shots_on_target': 'AST',\n",
    "       'home_team_fouls': 'HF',\n",
    "       'away_team_fouls': 'AF',\n",
    "       'home_team_corner_count': 'HC', \n",
    "       'away_team_corner_count': 'AC',\n",
    "       'home_team_yellow_cards': 'HY',\n",
    "       'home_team_red_cards': 'AY',\n",
    "       'away_team_yellow_cards': 'HR',\n",
    "       'away_team_red_cards': 'AR',\n",
    "       'PH': 'PSH', \n",
    "       'PD': 'PSD',\n",
    "       'PA': 'PSA',\n",
    "       'AvgH': 'B365H',\n",
    "       'AvgD': 'B365D',\n",
    "       'AvgA': 'B365A'}"
   ]
  },
  {
   "cell_type": "markdown",
   "metadata": {},
   "source": [
    "##### Generate the columns for generating fixtures from **footystats** "
   ]
  },
  {
   "cell_type": "code",
   "execution_count": 3,
   "metadata": {},
   "outputs": [],
   "source": [
    "\"\"\" these are the fixture columns dropped\"\"\"\n",
    "\n",
    "cols_fix = ['timestamp', 'date_GMT', 'status', 'attendance',\n",
    "       'referee', 'GameWeek', 'Pre-MatchPPG(Home)', 'Pre-MatchPPG(Away)',\n",
    "       'home_ppg', 'away_ppg', 'home_team_goal_count', 'away_team_goal_count',\n",
    "       'total_goal_count', 'total_goals_at_half_time',\n",
    "       'home_team_goal_count_half_time', 'away_team_goal_count_half_time',\n",
    "       'home_team_goal_timings', 'away_team_goal_timings',\n",
    "       'home_team_corner_count', 'away_team_corner_count',\n",
    "       'home_team_yellow_cards', 'home_team_red_cards',\n",
    "       'away_team_yellow_cards', 'away_team_red_cards',\n",
    "       'home_team_first_half_cards', 'home_team_second_half_cards',\n",
    "       'away_team_first_half_cards', 'away_team_second_half_cards',\n",
    "       'home_team_shots', 'away_team_shots', 'home_team_shots_on_target',\n",
    "       'away_team_shots_on_target', 'home_team_shots_off_target',\n",
    "       'away_team_shots_off_target', 'home_team_fouls', 'away_team_fouls',\n",
    "       'home_team_possession', 'away_team_possession', 'team_a_xg',\n",
    "       'team_b_xg', 'average_goals_per_match_pre_match',\n",
    "       'btts_percentage_pre_match', 'over_15_percentage_pre_match',\n",
    "       'over_25_percentage_pre_match', 'over_35_percentage_pre_match',\n",
    "       'over_45_percentage_pre_match', 'over_15_HT_FHG_percentage_pre_match',\n",
    "       'over_05_HT_FHG_percentage_pre_match',\n",
    "       'over_15_2HG_percentage_pre_match', 'over_05_2HG_percentage_pre_match',\n",
    "       'average_corners_per_match_pre_match',\n",
    "       'average_cards_per_match_pre_match', 'odds_ft_over15',\n",
    "       'odds_ft_over25', 'odds_ft_over35', 'odds_ft_over45', 'odds_btts_yes',\n",
    "       'odds_btts_no', 'stadium_name']\n",
    "\n",
    "\"\"\" renaming the columns for generating fixtures\"\"\"\n",
    "dict_fix ={'Home': 'HomeTeam',\n",
    "       'Away': 'AwayTeam',\n",
    "       'odds_ft_home_team_win': 'PSH',\n",
    "       'odds_ft_draw': 'PSD',\n",
    "       'odds_ft_away_team_win': 'PSA'}"
   ]
  },
  {
   "cell_type": "markdown",
   "metadata": {},
   "source": [
    "##### Get all the files in the path (Argentina, Japan, Ireland, Brazil , USA)\n"
   ]
  },
  {
   "cell_type": "code",
   "execution_count": 4,
   "metadata": {},
   "outputs": [],
   "source": [
    "#os.chdir('src/merge_footystats/')\n",
    "PATH = os.getcwd()\n",
    "\n",
    "def datefromtimestamp(timestamp):\n",
    "    date = datetime.utcfromtimestamp(timestamp).strftime('%Y-%m-%d')\n",
    "    return date\n",
    "    \n",
    "class FootyStats:\n",
    "    def __init__(self):\n",
    "        pass\n",
    "\n",
    "    @staticmethod\n",
    "    def merge_stats_odds(_df1:pd.DataFrame, _df2:pd.DataFrame)-> pd.DataFrame:\n",
    "        df1 = _df1\n",
    "        df2 = _df2\n",
    "        _lst = [datefromtimestamp(timestamp) for timestamp in df1['timestamp']]\n",
    "        df1['Date'] = _lst\n",
    "        df1 = df1.assign(Date = lambda df1:pd.to_datetime(df1.Date))\n",
    "\n",
    "        format_str = '%d/%m/%Y'\n",
    "        _df2_lst = [(datetime.strptime(date,format_str)) for date in df2['Date']]\n",
    "        _date_lst = [item.strftime('%Y/%m/%d') for item in _df2_lst]\n",
    "        df2['Date'] = _date_lst\n",
    "        df2 = df2.assign(Date = lambda df2:pd.to_datetime(df2.Date))\n",
    "        \n",
    "        \"\"\" format both the dataframes before merging\"\"\"\n",
    "        df1 = df1[df1.status == 'complete']\n",
    "        df1.rename(columns = {'home_team_name':'Home', 'away_team_name':'Away'}, inplace = True)\n",
    "\n",
    "        \"\"\" removing whitespaces\"\"\"\n",
    "        df1.columns = df1.columns.str.replace(' ', '')\n",
    "        df2.columns = df2.columns.str.replace(' ', '')\n",
    "\n",
    "        \"\"\"merge both the dataframes\"\"\"\n",
    "        df = pd.merge(df1, df2,on=['Date','Home','Away'], how = 'inner')\n",
    "\n",
    "        \"\"\" dropping all the un-required cols\"\"\"\n",
    "        df.drop(cols, axis=1, inplace= True)\n",
    "        df.rename(columns=dict_merge,\n",
    "          inplace=True)\n",
    "        return df\n",
    "\n",
    "    @staticmethod\n",
    "    def get_fixtures(df1:pd.DataFrame)-> pd.DataFrame:\n",
    "      \"\"\" generating fixtures from footystats data\"\"\"\n",
    "      df3 = df1\n",
    "      df3 = df3[df3.status == 'incomplete']\n",
    "      _lst = ([ datefromtimestamp(timestamp) for timestamp in df3.timestamp])\n",
    "      df3['Date'] = _lst\n",
    "      df3 = df3.assign(Date = lambda df3:pd.to_datetime(df3.Date))\n",
    "      \n",
    "      df3.rename(columns = {'home_team_name':'Home', 'away_team_name':'Away'}, inplace = True)\n",
    "      df3.columns = df3.columns.str.replace(' ', '')\n",
    "      df3.drop(cols_fix, axis=1, inplace=True)\n",
    "      df3.rename(columns=dict_fix,\n",
    "                inplace=True)\n",
    "\n",
    "      return df3  "
   ]
  },
  {
   "cell_type": "code",
   "execution_count": 5,
   "metadata": {},
   "outputs": [],
   "source": [
    "\"\"\"\n",
    "Get all the merged files generated  from footystats and football data co uk\n",
    "\"\"\"\n",
    "# use glob to get all the csv files \n",
    "# in the folder\n",
    "base_path = os.getcwd()\n",
    "path_footystats = base_path+('/merge_data/footystats_data/')\n",
    "csv_files_footystats = glob.glob(os.path.join(path_footystats, \"*.csv\"))\n",
    "dict_odds = {}\n",
    "path_odds = base_path+('/merge_data/football_odds_data/')\n",
    "csv_files_odds = glob.glob(os.path.join(path_odds, \"*.csv\"))"
   ]
  },
  {
   "cell_type": "code",
   "execution_count": 6,
   "metadata": {},
   "outputs": [],
   "source": [
    "\"\"\"\n",
    "Get all the merged files generated  from footystats and football data co uk\n",
    "\"\"\"\n",
    "# use glob to get all the csv files \n",
    "# in the folder\n",
    "base_path = os.getcwd()\n",
    "#path_footystats = base_path+('/merge_data/footystats_data/')\n",
    "#csv_files_footystats = glob.glob(os.path.join(path_footystats, \"*.csv\"))\n",
    "csv_files_footystats = ['/Users/nikhilshukla/Desktop/football-data/src/merge_footystats/merge_data/footystats_data/argentina-primera-division-matches-2022-to-2022-stats.csv',\n",
    "'/Users/nikhilshukla/Desktop/football-data/src/merge_footystats/merge_data/footystats_data/brazil-serie-a-matches-2022-to-2022-stats.csv',\n",
    "'/Users/nikhilshukla/Desktop/football-data/src/merge_footystats/merge_data/footystats_data/japan-j1-league-matches-2022-to-2022-stats.csv',\n",
    "'/Users/nikhilshukla/Desktop/football-data/src/merge_footystats/merge_data/footystats_data/usa-mls-matches-2022-to-2022-stats.csv'\n",
    " ]\n",
    "dict_odds = {}\n",
    "#path_odds = base_path+('/merge_data/football_odds_data/')\n",
    "#csv_files_odds = glob.glob(os.path.join(path_odds, \"*.csv\"))\n",
    "csv_files_odds = [\n",
    " '/Users/nikhilshukla/Desktop/football-data/src/merge_footystats/merge_data/football_odds_data/ARG.csv',\n",
    " '/Users/nikhilshukla/Desktop/football-data/src/merge_footystats/merge_data/football_odds_data/BRA.csv',\n",
    " '/Users/nikhilshukla/Desktop/football-data/src/merge_footystats/merge_data/football_odds_data/USA.csv',\n",
    " '/Users/nikhilshukla/Desktop/football-data/src/merge_footystats/merge_data/football_odds_data/JAP.csv'\n",
    " ]\n",
    "dict_odds = {file.split('/')[-1].split('.')[0]:file for file in csv_files_odds}\n"
   ]
  },
  {
   "cell_type": "code",
   "execution_count": 7,
   "metadata": {},
   "outputs": [],
   "source": [
    "for f in csv_files_footystats:\n",
    "    df_footystats = pd.read_csv(f)\n",
    "    country = f.split('/')[-1].split('-')[0].upper()[:3]\n",
    "    odd_path = dict_odds.get(country)\n",
    "    df_odds = pd.read_csv(odd_path)\n",
    "    df_merge = FootyStats.merge_stats_odds(df_footystats, df_odds)\n",
    "    df_merge.to_csv(base_path+('/merge_data/final_merged_data/{}_2022.csv'.format(country)))"
   ]
  },
  {
   "cell_type": "markdown",
   "metadata": {},
   "source": [
    "### Getting Fixtures"
   ]
  },
  {
   "cell_type": "code",
   "execution_count": 8,
   "metadata": {},
   "outputs": [
    {
     "name": "stderr",
     "output_type": "stream",
     "text": [
      "/var/folders/c4/r5d56mnd3mqd570blq2lrl6m0000gn/T/ipykernel_49357/3679105138.py:49: SettingWithCopyWarning: \n",
      "A value is trying to be set on a copy of a slice from a DataFrame.\n",
      "Try using .loc[row_indexer,col_indexer] = value instead\n",
      "\n",
      "See the caveats in the documentation: https://pandas.pydata.org/pandas-docs/stable/user_guide/indexing.html#returning-a-view-versus-a-copy\n",
      "  df3['Date'] = _lst\n"
     ]
    }
   ],
   "source": [
    "\"\"\"\n",
    "Get all the fixtures from footystats week\n",
    "\"\"\"\n",
    "# use glob to get all the csv files \n",
    "# in the folder\n",
    "base_path = os.getcwd()\n",
    "path_footystats = base_path+('/merge_data/footystats_data/')\n",
    "csv_files_footystats = glob.glob(os.path.join(path_footystats, \"*.csv\"))\n",
    "\n",
    "for f in csv_files_footystats:\n",
    "    df_footystats = pd.read_csv(f)\n",
    "    country = f.split('/')[-1].split('-')[0].upper()[:3]\n",
    "    division = f.split('/')[-1].split('-')[1].upper()[:3]\n",
    "    df_fixtures = FootyStats.get_fixtures(df_footystats)\n",
    "    df_fixtures.to_csv(base_path+('/merge_data/fixtures/fixtures_{}_{}.csv'.format(country,division)))\n"
   ]
  },
  {
   "cell_type": "code",
   "execution_count": 9,
   "metadata": {},
   "outputs": [],
   "source": [
    "\"\"\"\n",
    "Merging all the fixtures into one \n",
    "\"\"\"\n",
    "base_path = os.getcwd()\n",
    "path_fixtures = base_path+('/merge_data/fixtures/')\n",
    "csv_files_fixtures = glob.glob(os.path.join(path_fixtures, \"*.csv\"))\n",
    "\n",
    "fixtures = [ pd.read_csv(file) for file in csv_files_fixtures ]\n",
    "result = pd.concat(fixtures)\n",
    "final_fixtures = result.sort_values(['Date'], ascending=True)\n",
    "final_fixtures = final_fixtures[final_fixtures.PSH != 0]\n",
    "for f in csv_files_fixtures:\n",
    "    os.remove(f)\n",
    "final_fixtures.to_csv(path_fixtures+('/fixtures.csv'))"
   ]
  },
  {
   "cell_type": "code",
   "execution_count": 10,
   "metadata": {},
   "outputs": [],
   "source": [
    "final_fixtures.drop(['Unnamed: 0'],axis=1,inplace=True)"
   ]
  },
  {
   "cell_type": "code",
   "execution_count": 11,
   "metadata": {},
   "outputs": [],
   "source": [
    "#final_fixtures.drop(['Unnamed: 0.1'],axis=1,inplace=True)"
   ]
  },
  {
   "cell_type": "code",
   "execution_count": 12,
   "metadata": {},
   "outputs": [],
   "source": [
    "final_fixtures.to_csv(path_fixtures+('/fixtures.csv'))"
   ]
  },
  {
   "cell_type": "markdown",
   "metadata": {},
   "source": [
    "### Merge into Allleagues"
   ]
  },
  {
   "cell_type": "code",
   "execution_count": 13,
   "metadata": {},
   "outputs": [],
   "source": [
    "#if you get the invalid ssh url certificate else move on to the next line of code\n",
    "import ssl\n",
    "ssl._create_default_https_context = ssl._create_unverified_context"
   ]
  },
  {
   "cell_type": "code",
   "execution_count": 14,
   "metadata": {},
   "outputs": [],
   "source": [
    "import datetime\n",
    "#run only when fixtures are from football data co uk\n",
    "def convert_datetime(df2):    \n",
    "    lst = []\n",
    "    for i in range(len(df2)):\n",
    "        lst.append(datetime.datetime.strptime(df2['Date'].iloc[i], \"%d/%m/%Y\").strftime(\"%Y-%m-%d\")) \n",
    "    new_date = pd.Series(lst)\n",
    "    df2['new_date'] = new_date\n",
    "\n",
    "    # need to drop the old Date to take in the new updated date series\n",
    "    df2.drop('Date',axis =1)\n",
    "    df2 = df2.assign(Date = lambda df: pd.to_datetime(df2.new_date))\n",
    "    df2['Date'] = df2['Date'].dt.date\n",
    "    return df2"
   ]
  },
  {
   "cell_type": "code",
   "execution_count": 15,
   "metadata": {},
   "outputs": [
    {
     "name": "stderr",
     "output_type": "stream",
     "text": [
      "/Library/Frameworks/Python.framework/Versions/3.9/lib/python3.9/site-packages/IPython/core/interactiveshell.py:3251: DtypeWarning: Columns (8,124) have mixed types.Specify dtype option on import or set low_memory=False.\n",
      "  exec(code_obj, self.user_global_ns, self.user_ns)\n"
     ]
    }
   ],
   "source": [
    "#get allleagues data\n",
    "url = 'https://raw.githubusercontent.com/Ericvolten1/football-data/main/src/all_leagues.csv'\n",
    "allleagues = pd.read_csv(url)"
   ]
  },
  {
   "cell_type": "code",
   "execution_count": 16,
   "metadata": {},
   "outputs": [],
   "source": [
    "PATH = os.getcwd()"
   ]
  },
  {
   "cell_type": "code",
   "execution_count": 17,
   "metadata": {},
   "outputs": [],
   "source": [
    "belgium_path = PATH + '/merge_data/football_odds_data/B1.csv'\n",
    "bundesliga_path = PATH + '/merge_data/football_odds_data/D1.csv'\n",
    "bundesliga2_path = PATH + '/merge_data/football_odds_data/D2.csv'\n",
    "epl_path = PATH + '/merge_data/football_odds_data/E0.csv'\n",
    "eng_championship_path = PATH + '/merge_data/football_odds_data/E1.csv'\n",
    "eng_leagueone_path = PATH + '/merge_data/football_odds_data/E2.csv'\n",
    "ligue1_path = PATH + '/merge_data/football_odds_data/F1.csv'\n",
    "ligue2_path = PATH + '/merge_data/football_odds_data/F2.csv'\n",
    "erdevisie_path = PATH + '/merge_data/football_odds_data/N1.csv'\n",
    "seriea_path = PATH + '/merge_data/football_odds_data/I1.csv'\n",
    "serieb_path = PATH + '/merge_data/football_odds_data/I2.csv'\n",
    "laliga_path = PATH + '/merge_data/football_odds_data/SP1.csv'\n",
    "laliga2_path = PATH + '/merge_data/football_odds_data/SP2.csv'\n",
    "portugal_path = PATH + '/merge_data/football_odds_data/P1.csv'\n",
    "turkey_path = PATH + '/merge_data/football_odds_data/T1.csv'\n",
    "scot_premiership_path = PATH + '/merge_data/football_odds_data/SC0.csv'\n",
    "scot_championship_path = PATH + '/merge_data/football_odds_data/SC1.csv'"
   ]
  },
  {
   "cell_type": "code",
   "execution_count": 18,
   "metadata": {},
   "outputs": [],
   "source": [
    "belgium = pd.read_csv(belgium_path)\n",
    "bundesliga = pd.read_csv(bundesliga_path)\n",
    "bundesliga2 = pd.read_csv(bundesliga2_path)\n",
    "epl = pd.read_csv(epl_path)\n",
    "eng_championship = pd.read_csv(eng_championship_path)\n",
    "eng_leagueone = pd.read_csv(eng_leagueone_path)\n",
    "ligue1 = pd.read_csv(ligue1_path)\n",
    "ligue2 = pd.read_csv(ligue2_path)\n",
    "erdevisie = pd.read_csv(erdevisie_path)\n",
    "seriea = pd.read_csv(seriea_path)\n",
    "serieb = pd.read_csv(serieb_path)\n",
    "laliga = pd.read_csv(laliga_path)\n",
    "laliga2 = pd.read_csv(laliga2_path)\n",
    "portugal = pd.read_csv(portugal_path)\n",
    "turkey = pd.read_csv(turkey_path)\n",
    "scot_premiership = pd.read_csv(scot_premiership_path)\n",
    "scot_championship = pd.read_csv(scot_championship_path)\n",
    "\n",
    "\n",
    "frames = [belgium,bundesliga,bundesliga2, epl,eng_championship,eng_leagueone,\n",
    "         ligue1,ligue2,erdevisie,seriea,serieb,laliga,laliga2,\n",
    "         portugal,turkey,scot_premiership,scot_championship]\n",
    "updated = [convert_datetime(val) for val in frames]"
   ]
  },
  {
   "cell_type": "code",
   "execution_count": 19,
   "metadata": {},
   "outputs": [],
   "source": [
    "final = pd.concat(updated).drop_duplicates().reset_index(drop=True)"
   ]
  },
  {
   "cell_type": "code",
   "execution_count": 20,
   "metadata": {},
   "outputs": [],
   "source": [
    "latest_allleagues = pd.concat([allleagues,final]).drop_duplicates().reset_index(drop=True)\n",
    "latest_allleagues.drop(columns=['Unnamed: 0','new_date'],axis =1,inplace=True)"
   ]
  },
  {
   "cell_type": "code",
   "execution_count": 21,
   "metadata": {},
   "outputs": [],
   "source": [
    "allleagues_path = PATH + ('/../all_leagues.csv')\n",
    "latest_allleagues.to_csv(allleagues_path)"
   ]
  },
  {
   "cell_type": "markdown",
   "metadata": {},
   "source": [
    "### merging allleagues with footystats data"
   ]
  },
  {
   "cell_type": "code",
   "execution_count": 22,
   "metadata": {},
   "outputs": [],
   "source": [
    "allleagues_path = PATH + '/../all_leagues.csv'\n",
    "new_allleagues = pd.read_csv(allleagues_path)"
   ]
  },
  {
   "cell_type": "code",
   "execution_count": 23,
   "metadata": {},
   "outputs": [],
   "source": [
    "merged_path = PATH + '/merge_data/final_merged_data/'\n",
    "csv_files_merged = glob.glob(os.path.join(merged_path, \"*.csv\"))\n",
    "new_frames = [pd.read_csv(file) for file in csv_files_merged]\n"
   ]
  },
  {
   "cell_type": "code",
   "execution_count": 24,
   "metadata": {},
   "outputs": [],
   "source": [
    "updated_frames = pd.concat(new_frames).drop_duplicates().reset_index(drop=True)"
   ]
  },
  {
   "cell_type": "code",
   "execution_count": 25,
   "metadata": {},
   "outputs": [],
   "source": [
    "final_alleagues = pd.concat([new_allleagues,updated_frames]).drop_duplicates().reset_index(drop=True)"
   ]
  },
  {
   "cell_type": "code",
   "execution_count": 26,
   "metadata": {},
   "outputs": [],
   "source": [
    "allleagues_path = PATH + ('/../all_leagues.csv')\n",
    "final_alleagues.to_csv(allleagues_path)"
   ]
  }
 ],
 "metadata": {
  "kernelspec": {
   "display_name": "Python 3.9.6 64-bit",
   "language": "python",
   "name": "python3"
  },
  "language_info": {
   "codemirror_mode": {
    "name": "ipython",
    "version": 3
   },
   "file_extension": ".py",
   "mimetype": "text/x-python",
   "name": "python",
   "nbconvert_exporter": "python",
   "pygments_lexer": "ipython3",
   "version": "3.9.6"
  },
  "orig_nbformat": 4,
  "vscode": {
   "interpreter": {
    "hash": "7812ea015bdcee6f23a998adcdd2ef97c151c0c241b7b7070987d9313e41299d"
   }
  }
 },
 "nbformat": 4,
 "nbformat_minor": 2
}
