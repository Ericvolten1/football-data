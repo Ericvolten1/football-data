{
 "cells": [
  {
   "cell_type": "code",
   "execution_count": 1,
   "metadata": {},
   "outputs": [],
   "source": [
    "import pandas as pd\n",
    "import os\n",
    "import glob \n",
    "from datetime import datetime\n"
   ]
  },
  {
   "cell_type": "markdown",
   "metadata": {},
   "source": [
    "##### Generate the columns for merge of footystats and football odds "
   ]
  },
  {
   "cell_type": "code",
   "execution_count": 2,
   "metadata": {},
   "outputs": [],
   "source": [
    "\"\"\" \n",
    "The following columns are not required for analysis.\n",
    "Hence, they are dropped.\n",
    "\"\"\"\n",
    "cols= ['timestamp', 'date_GMT', 'status', 'attendance', \n",
    "       'referee', 'GameWeek', 'Pre-MatchPPG(Home)', 'Pre-MatchPPG(Away)',\n",
    "       'home_ppg', 'away_ppg',  \n",
    "       'home_team_goal_timings', 'away_team_goal_timings',\n",
    "       'home_team_first_half_cards', 'home_team_second_half_cards',\n",
    "       'away_team_first_half_cards', 'away_team_second_half_cards',\n",
    "       'home_team_shots_off_target',\n",
    "       'away_team_shots_off_target',\n",
    "       'home_team_possession', 'away_team_possession', 'team_a_xg',\n",
    "       'team_b_xg', 'average_goals_per_match_pre_match',\n",
    "       'btts_percentage_pre_match', 'over_15_percentage_pre_match',\n",
    "       'over_25_percentage_pre_match', 'over_35_percentage_pre_match',\n",
    "       'over_45_percentage_pre_match', 'over_15_HT_FHG_percentage_pre_match',\n",
    "       'over_05_HT_FHG_percentage_pre_match',\n",
    "       'over_15_2HG_percentage_pre_match', 'over_05_2HG_percentage_pre_match',\n",
    "       'average_corners_per_match_pre_match',\n",
    "       'average_cards_per_match_pre_match', 'odds_ft_home_team_win',\n",
    "       'odds_ft_draw', 'odds_ft_away_team_win', 'odds_ft_over15',\n",
    "       'odds_ft_over25', 'odds_ft_over35', 'odds_ft_over45', 'odds_btts_yes',\n",
    "       'odds_btts_no', 'stadium_name','Country', 'League', 'Season',\n",
    "       'Time', 'HG', 'AG', 'Res', 'MaxH', 'MaxD', 'MaxA']\n",
    "\n",
    "\"\"\" Renaming all the columns as per ML modelling featues\"\"\"\n",
    "\n",
    "dict_merge ={'Home': 'HomeTeam',\n",
    "       'Away': 'AwayTeam',\n",
    "       'home_team_goal_count': 'FTHG',\n",
    "       'away_team_goal_count': 'FTAG',\n",
    "       'home_team_goal_count_half_time': 'HTHG', \n",
    "       'away_team_goal_count_half_time': 'HTAG',\n",
    "       'home_team_shots': 'HS',\n",
    "       'away_team_shots': 'AS',\n",
    "       'home_team_shots_on_target': 'HST',\n",
    "       'away_team_shots_on_target': 'AST',\n",
    "       'home_team_fouls': 'HF',\n",
    "       'away_team_fouls': 'AF',\n",
    "       'home_team_corner_count': 'HC', \n",
    "       'away_team_corner_count': 'AC',\n",
    "       'home_team_yellow_cards': 'HY',\n",
    "       'home_team_red_cards': 'AY',\n",
    "       'away_team_yellow_cards': 'HR',\n",
    "       'away_team_red_cards': 'AR',\n",
    "       'PH': 'PSH', \n",
    "       'PD': 'PSD',\n",
    "       'PA': 'PSA',\n",
    "       'AvgH': 'B365H',\n",
    "       'AvgD': 'B365D',\n",
    "       'AvgA': 'B365A'}"
   ]
  },
  {
   "cell_type": "markdown",
   "metadata": {},
   "source": [
    "##### Generate the columns for generating fixtures from **footystats** "
   ]
  },
  {
   "cell_type": "code",
   "execution_count": 3,
   "metadata": {},
   "outputs": [],
   "source": [
    "\"\"\" these are the fixture columns dropped\"\"\"\n",
    "\n",
    "cols_fix = ['timestamp', 'date_GMT', 'status', 'attendance',\n",
    "       'referee', 'GameWeek', 'Pre-MatchPPG(Home)', 'Pre-MatchPPG(Away)',\n",
    "       'home_ppg', 'away_ppg', 'home_team_goal_count', 'away_team_goal_count',\n",
    "       'total_goal_count', 'total_goals_at_half_time',\n",
    "       'home_team_goal_count_half_time', 'away_team_goal_count_half_time',\n",
    "       'home_team_goal_timings', 'away_team_goal_timings',\n",
    "       'home_team_corner_count', 'away_team_corner_count',\n",
    "       'home_team_yellow_cards', 'home_team_red_cards',\n",
    "       'away_team_yellow_cards', 'away_team_red_cards',\n",
    "       'home_team_first_half_cards', 'home_team_second_half_cards',\n",
    "       'away_team_first_half_cards', 'away_team_second_half_cards',\n",
    "       'home_team_shots', 'away_team_shots', 'home_team_shots_on_target',\n",
    "       'away_team_shots_on_target', 'home_team_shots_off_target',\n",
    "       'away_team_shots_off_target', 'home_team_fouls', 'away_team_fouls',\n",
    "       'home_team_possession', 'away_team_possession', 'team_a_xg',\n",
    "       'team_b_xg', 'average_goals_per_match_pre_match',\n",
    "       'btts_percentage_pre_match', 'over_15_percentage_pre_match',\n",
    "       'over_25_percentage_pre_match', 'over_35_percentage_pre_match',\n",
    "       'over_45_percentage_pre_match', 'over_15_HT_FHG_percentage_pre_match',\n",
    "       'over_05_HT_FHG_percentage_pre_match',\n",
    "       'over_15_2HG_percentage_pre_match', 'over_05_2HG_percentage_pre_match',\n",
    "       'average_corners_per_match_pre_match',\n",
    "       'average_cards_per_match_pre_match', 'odds_ft_over15',\n",
    "       'odds_ft_over25', 'odds_ft_over35', 'odds_ft_over45', 'odds_btts_yes',\n",
    "       'odds_btts_no', 'stadium_name']\n",
    "\n",
    "\"\"\" renaming the columns for generating fixtures\"\"\"\n",
    "dict_fix ={'Home': 'HomeTeam',\n",
    "       'Away': 'AwayTeam',\n",
    "       'odds_ft_home_team_win': 'PSH',\n",
    "       'odds_ft_draw': 'PSD',\n",
    "       'odds_ft_away_team_win': 'PSA'}"
   ]
  },
  {
   "cell_type": "markdown",
   "metadata": {},
   "source": [
    "##### Get all the files in the path (Argentina, Japan, Ireland, Brazil , USA)\n"
   ]
  },
  {
   "cell_type": "code",
   "execution_count": 4,
   "metadata": {},
   "outputs": [],
   "source": [
    "#os.chdir('src/merge_footystats/')\n",
    "PATH = os.getcwd()\n",
    "\n",
    "def datefromtimestamp(timestamp):\n",
    "    date = datetime.utcfromtimestamp(timestamp).strftime('%Y-%m-%d')\n",
    "    return date\n",
    "    \n",
    "class FootyStats:\n",
    "    def __init__(self):\n",
    "        pass\n",
    "\n",
    "    @staticmethod\n",
    "    def merge_stats_odds(_df1:pd.DataFrame, _df2:pd.DataFrame)-> pd.DataFrame:\n",
    "        df1 = _df1\n",
    "        df2 = _df2\n",
    "        _lst = [datefromtimestamp(timestamp) for timestamp in df1['timestamp']]\n",
    "        df1['Date'] = _lst\n",
    "        df1 = df1.assign(Date = lambda df1:pd.to_datetime(df1.Date))\n",
    "\n",
    "        format_str = '%d/%m/%Y'\n",
    "        _df2_lst = [(datetime.strptime(date,format_str)) for date in df2['Date']]\n",
    "        _date_lst = [item.strftime('%Y/%m/%d') for item in _df2_lst]\n",
    "        df2['Date'] = _date_lst\n",
    "        df2 = df2.assign(Date = lambda df2:pd.to_datetime(df2.Date))\n",
    "        \n",
    "        \"\"\" format both the dataframes before merging\"\"\"\n",
    "        df1 = df1[df1.status == 'complete']\n",
    "        df1.rename(columns = {'home_team_name':'Home', 'away_team_name':'Away'}, inplace = True)\n",
    "\n",
    "        \"\"\" removing whitespaces\"\"\"\n",
    "        df1.columns = df1.columns.str.replace(' ', '')\n",
    "        df2.columns = df2.columns.str.replace(' ', '')\n",
    "\n",
    "        \"\"\"merge both the dataframes\"\"\"\n",
    "        df = pd.merge(df1, df2,on=['Date','Home','Away'], how = 'inner')\n",
    "\n",
    "        \"\"\" dropping all the un-required cols\"\"\"\n",
    "        df.drop(cols, axis=1, inplace= True)\n",
    "        df.rename(columns=dict_merge,\n",
    "          inplace=True)\n",
    "        return df\n",
    "\n",
    "    @staticmethod\n",
    "    def get_fixtures(df1:pd.DataFrame)-> pd.DataFrame:\n",
    "      \"\"\" generating fixtures from footystats data\"\"\"\n",
    "      df3 = df1\n",
    "      df3 = df3[df3.status == 'incomplete']\n",
    "      _lst = ([ datefromtimestamp(timestamp) for timestamp in df3.timestamp])\n",
    "      df3['Date'] = _lst\n",
    "      df3 = df3.assign(Date = lambda df3:pd.to_datetime(df3.Date))\n",
    "      \n",
    "      df3.rename(columns = {'home_team_name':'Home', 'away_team_name':'Away'}, inplace = True)\n",
    "      df3.columns = df3.columns.str.replace(' ', '')\n",
    "      df3.drop(cols_fix, axis=1, inplace=True)\n",
    "      df3.rename(columns=dict_fix,\n",
    "                inplace=True)\n",
    "\n",
    "      return df3  "
   ]
  },
  {
   "cell_type": "code",
   "execution_count": 5,
   "metadata": {},
   "outputs": [],
   "source": [
    "\"\"\"\n",
    "Get all the merged files generated  from footystats and football data co uk\n",
    "\"\"\"\n",
    "# use glob to get all the csv files \n",
    "# in the folder\n",
    "base_path = os.getcwd()\n",
    "path_footystats = base_path+('/merge_data/footystats_data/')\n",
    "csv_files_footystats = glob.glob(os.path.join(path_footystats, \"*.csv\"))\n",
    "dict_odds = {}\n",
    "path_odds = base_path+('/merge_data/football_odds_data/')\n",
    "csv_files_odds = glob.glob(os.path.join(path_odds, \"*.csv\"))"
   ]
  },
  {
   "cell_type": "code",
   "execution_count": 13,
   "metadata": {},
   "outputs": [],
   "source": [
    "\"\"\"\n",
    "Get all the merged files generated  from footystats and football data co uk\n",
    "\"\"\"\n",
    "# use glob to get all the csv files \n",
    "# in the folder\n",
    "base_path = os.getcwd()\n",
    "#path_footystats = base_path+('/merge_data/footystats_data/')\n",
    "#csv_files_footystats = glob.glob(os.path.join(path_footystats, \"*.csv\"))\n",
    "csv_files_footystats = ['/Users/nikhilshukla/Desktop/football-data/src/merge_footystats/merge_data/footystats_data/argentina-primera-division-matches-2022-to-2022-stats.csv',\n",
    "'/Users/nikhilshukla/Desktop/football-data/src/merge_footystats/merge_data/footystats_data/brazil-serie-a-matches-2022-to-2022-stats.csv',\n",
    "'/Users/nikhilshukla/Desktop/football-data/src/merge_footystats/merge_data/footystats_data/japan-j1-league-matches-2022-to-2022-stats.csv',\n",
    "'/Users/nikhilshukla/Desktop/football-data/src/merge_footystats/merge_data/footystats_data/usa-mls-matches-2022-to-2022-stats.csv',\n",
    "'/Users/nikhilshukla/Desktop/football-data/src/merge_footystats/merge_data/footystats_data/austria-bundesliga-matches-2022-to-2023-stats.csv',\n",
    "'/Users/nikhilshukla/Desktop/football-data/src/merge_footystats/merge_data/footystats_data/mexico-liga-mx-matches-2022-to-2023-stats.csv',\n",
    "'/Users/nikhilshukla/Desktop/football-data/src/merge_footystats/merge_data/footystats_data/denmark-superliga-matches-2022-to-2023-stats.csv',\n",
    "'/Users/nikhilshukla/Desktop/football-data/src/merge_footystats/merge_data/footystats_data/china-chinese-super-league-matches-2022-to-2022-stats.csv',\n",
    "'/Users/nikhilshukla/Desktop/football-data/src/merge_footystats/merge_data/footystats_data/norway-eliteserien-matches-2022-to-2022-stats.csv',\n",
    "'/Users/nikhilshukla/Desktop/football-data/src/merge_footystats/merge_data/footystats_data/poland-ekstraklasa-matches-2022-to-2023-stats.csv',\n",
    "'/Users/nikhilshukla/Desktop/football-data/src/merge_footystats/merge_data/footystats_data/sweden-allsvenskan-matches-2022-to-2022-stats.csv',\n",
    "'/Users/nikhilshukla/Desktop/football-data/src/merge_footystats/merge_data/footystats_data/switzerland-super-league-matches-2022-to-2023-stats.csv']\n",
    "dict_odds = {}\n",
    "#path_odds = base_path+('/merge_data/football_odds_data/')\n",
    "#csv_files_odds = glob.glob(os.path.join(path_odds, \"*.csv\"))\n",
    "csv_files_odds = [\n",
    " '/Users/nikhilshukla/Desktop/football-data/src/merge_footystats/merge_data/football_odds_data/ARG.csv',\n",
    " '/Users/nikhilshukla/Desktop/football-data/src/merge_footystats/merge_data/football_odds_data/BRA.csv',\n",
    " '/Users/nikhilshukla/Desktop/football-data/src/merge_footystats/merge_data/football_odds_data/USA.csv',\n",
    " '/Users/nikhilshukla/Desktop/football-data/src/merge_footystats/merge_data/football_odds_data/JAP.csv',\n",
    " '/Users/nikhilshukla/Desktop/football-data/src/merge_footystats/merge_data/football_odds_data/AUS.csv',\n",
    " '/Users/nikhilshukla/Desktop/football-data/src/merge_footystats/merge_data/football_odds_data/MEX.csv',\n",
    " '/Users/nikhilshukla/Desktop/football-data/src/merge_footystats/merge_data/football_odds_data/DEN.csv',\n",
    " '/Users/nikhilshukla/Desktop/football-data/src/merge_footystats/merge_data/football_odds_data/CHI.csv',\n",
    " '/Users/nikhilshukla/Desktop/football-data/src/merge_footystats/merge_data/football_odds_data/NOR.csv',\n",
    " '/Users/nikhilshukla/Desktop/football-data/src/merge_footystats/merge_data/football_odds_data/POL.csv']\n",
    "dict_odds = {file.split('/')[-1].split('.')[0]:file for file in csv_files_odds}\n"
   ]
  },
  {
   "cell_type": "code",
   "execution_count": 14,
   "metadata": {},
   "outputs": [
    {
     "ename": "NotADirectoryError",
     "evalue": "[Errno 20] Not a directory: '/Users/nikhilshukla/Desktop/football-data/src/merge_footystats/merge_data/footystats_data/poland-ekstraklasa-matches-2022-to-2023-stats.csv/Users/nikhilshukla/Desktop/football-data/src/merge_footystats/merge_data/footystats_data/switzerland-super-league-matches-2022-to-2023-stats.csv'",
     "output_type": "error",
     "traceback": [
      "\u001b[0;31m---------------------------------------------------------------------------\u001b[0m",
      "\u001b[0;31mNotADirectoryError\u001b[0m                        Traceback (most recent call last)",
      "\u001b[1;32m/Users/nikhilshukla/Desktop/football-data/src/merge_footystats/merge_data_footystats.ipynb Cell 10\u001b[0m in \u001b[0;36m<module>\u001b[0;34m\u001b[0m\n\u001b[1;32m      <a href='vscode-notebook-cell:/Users/nikhilshukla/Desktop/football-data/src/merge_footystats/merge_data_footystats.ipynb#X12sZmlsZQ%3D%3D?line=0'>1</a>\u001b[0m \u001b[39mfor\u001b[39;00m f \u001b[39min\u001b[39;00m csv_files_footystats:\n\u001b[0;32m----> <a href='vscode-notebook-cell:/Users/nikhilshukla/Desktop/football-data/src/merge_footystats/merge_data_footystats.ipynb#X12sZmlsZQ%3D%3D?line=1'>2</a>\u001b[0m     df_footystats \u001b[39m=\u001b[39m pd\u001b[39m.\u001b[39;49mread_csv(f)\n\u001b[1;32m      <a href='vscode-notebook-cell:/Users/nikhilshukla/Desktop/football-data/src/merge_footystats/merge_data_footystats.ipynb#X12sZmlsZQ%3D%3D?line=2'>3</a>\u001b[0m     country \u001b[39m=\u001b[39m f\u001b[39m.\u001b[39msplit(\u001b[39m'\u001b[39m\u001b[39m/\u001b[39m\u001b[39m'\u001b[39m)[\u001b[39m-\u001b[39m\u001b[39m1\u001b[39m]\u001b[39m.\u001b[39msplit(\u001b[39m'\u001b[39m\u001b[39m-\u001b[39m\u001b[39m'\u001b[39m)[\u001b[39m0\u001b[39m]\u001b[39m.\u001b[39mupper()[:\u001b[39m3\u001b[39m]\n\u001b[1;32m      <a href='vscode-notebook-cell:/Users/nikhilshukla/Desktop/football-data/src/merge_footystats/merge_data_footystats.ipynb#X12sZmlsZQ%3D%3D?line=3'>4</a>\u001b[0m     odd_path \u001b[39m=\u001b[39m dict_odds\u001b[39m.\u001b[39mget(country)\n",
      "File \u001b[0;32m/Library/Frameworks/Python.framework/Versions/3.9/lib/python3.9/site-packages/pandas/util/_decorators.py:311\u001b[0m, in \u001b[0;36mdeprecate_nonkeyword_arguments.<locals>.decorate.<locals>.wrapper\u001b[0;34m(*args, **kwargs)\u001b[0m\n\u001b[1;32m    305\u001b[0m \u001b[39mif\u001b[39;00m \u001b[39mlen\u001b[39m(args) \u001b[39m>\u001b[39m num_allow_args:\n\u001b[1;32m    306\u001b[0m     warnings\u001b[39m.\u001b[39mwarn(\n\u001b[1;32m    307\u001b[0m         msg\u001b[39m.\u001b[39mformat(arguments\u001b[39m=\u001b[39marguments),\n\u001b[1;32m    308\u001b[0m         \u001b[39mFutureWarning\u001b[39;00m,\n\u001b[1;32m    309\u001b[0m         stacklevel\u001b[39m=\u001b[39mstacklevel,\n\u001b[1;32m    310\u001b[0m     )\n\u001b[0;32m--> 311\u001b[0m \u001b[39mreturn\u001b[39;00m func(\u001b[39m*\u001b[39;49margs, \u001b[39m*\u001b[39;49m\u001b[39m*\u001b[39;49mkwargs)\n",
      "File \u001b[0;32m/Library/Frameworks/Python.framework/Versions/3.9/lib/python3.9/site-packages/pandas/io/parsers/readers.py:586\u001b[0m, in \u001b[0;36mread_csv\u001b[0;34m(filepath_or_buffer, sep, delimiter, header, names, index_col, usecols, squeeze, prefix, mangle_dupe_cols, dtype, engine, converters, true_values, false_values, skipinitialspace, skiprows, skipfooter, nrows, na_values, keep_default_na, na_filter, verbose, skip_blank_lines, parse_dates, infer_datetime_format, keep_date_col, date_parser, dayfirst, cache_dates, iterator, chunksize, compression, thousands, decimal, lineterminator, quotechar, quoting, doublequote, escapechar, comment, encoding, encoding_errors, dialect, error_bad_lines, warn_bad_lines, on_bad_lines, delim_whitespace, low_memory, memory_map, float_precision, storage_options)\u001b[0m\n\u001b[1;32m    571\u001b[0m kwds_defaults \u001b[39m=\u001b[39m _refine_defaults_read(\n\u001b[1;32m    572\u001b[0m     dialect,\n\u001b[1;32m    573\u001b[0m     delimiter,\n\u001b[0;32m   (...)\u001b[0m\n\u001b[1;32m    582\u001b[0m     defaults\u001b[39m=\u001b[39m{\u001b[39m\"\u001b[39m\u001b[39mdelimiter\u001b[39m\u001b[39m\"\u001b[39m: \u001b[39m\"\u001b[39m\u001b[39m,\u001b[39m\u001b[39m\"\u001b[39m},\n\u001b[1;32m    583\u001b[0m )\n\u001b[1;32m    584\u001b[0m kwds\u001b[39m.\u001b[39mupdate(kwds_defaults)\n\u001b[0;32m--> 586\u001b[0m \u001b[39mreturn\u001b[39;00m _read(filepath_or_buffer, kwds)\n",
      "File \u001b[0;32m/Library/Frameworks/Python.framework/Versions/3.9/lib/python3.9/site-packages/pandas/io/parsers/readers.py:482\u001b[0m, in \u001b[0;36m_read\u001b[0;34m(filepath_or_buffer, kwds)\u001b[0m\n\u001b[1;32m    479\u001b[0m _validate_names(kwds\u001b[39m.\u001b[39mget(\u001b[39m\"\u001b[39m\u001b[39mnames\u001b[39m\u001b[39m\"\u001b[39m, \u001b[39mNone\u001b[39;00m))\n\u001b[1;32m    481\u001b[0m \u001b[39m# Create the parser.\u001b[39;00m\n\u001b[0;32m--> 482\u001b[0m parser \u001b[39m=\u001b[39m TextFileReader(filepath_or_buffer, \u001b[39m*\u001b[39;49m\u001b[39m*\u001b[39;49mkwds)\n\u001b[1;32m    484\u001b[0m \u001b[39mif\u001b[39;00m chunksize \u001b[39mor\u001b[39;00m iterator:\n\u001b[1;32m    485\u001b[0m     \u001b[39mreturn\u001b[39;00m parser\n",
      "File \u001b[0;32m/Library/Frameworks/Python.framework/Versions/3.9/lib/python3.9/site-packages/pandas/io/parsers/readers.py:811\u001b[0m, in \u001b[0;36mTextFileReader.__init__\u001b[0;34m(self, f, engine, **kwds)\u001b[0m\n\u001b[1;32m    808\u001b[0m \u001b[39mif\u001b[39;00m \u001b[39m\"\u001b[39m\u001b[39mhas_index_names\u001b[39m\u001b[39m\"\u001b[39m \u001b[39min\u001b[39;00m kwds:\n\u001b[1;32m    809\u001b[0m     \u001b[39mself\u001b[39m\u001b[39m.\u001b[39moptions[\u001b[39m\"\u001b[39m\u001b[39mhas_index_names\u001b[39m\u001b[39m\"\u001b[39m] \u001b[39m=\u001b[39m kwds[\u001b[39m\"\u001b[39m\u001b[39mhas_index_names\u001b[39m\u001b[39m\"\u001b[39m]\n\u001b[0;32m--> 811\u001b[0m \u001b[39mself\u001b[39m\u001b[39m.\u001b[39m_engine \u001b[39m=\u001b[39m \u001b[39mself\u001b[39;49m\u001b[39m.\u001b[39;49m_make_engine(\u001b[39mself\u001b[39;49m\u001b[39m.\u001b[39;49mengine)\n",
      "File \u001b[0;32m/Library/Frameworks/Python.framework/Versions/3.9/lib/python3.9/site-packages/pandas/io/parsers/readers.py:1040\u001b[0m, in \u001b[0;36mTextFileReader._make_engine\u001b[0;34m(self, engine)\u001b[0m\n\u001b[1;32m   1036\u001b[0m     \u001b[39mraise\u001b[39;00m \u001b[39mValueError\u001b[39;00m(\n\u001b[1;32m   1037\u001b[0m         \u001b[39mf\u001b[39m\u001b[39m\"\u001b[39m\u001b[39mUnknown engine: \u001b[39m\u001b[39m{\u001b[39;00mengine\u001b[39m}\u001b[39;00m\u001b[39m (valid options are \u001b[39m\u001b[39m{\u001b[39;00mmapping\u001b[39m.\u001b[39mkeys()\u001b[39m}\u001b[39;00m\u001b[39m)\u001b[39m\u001b[39m\"\u001b[39m\n\u001b[1;32m   1038\u001b[0m     )\n\u001b[1;32m   1039\u001b[0m \u001b[39m# error: Too many arguments for \"ParserBase\"\u001b[39;00m\n\u001b[0;32m-> 1040\u001b[0m \u001b[39mreturn\u001b[39;00m mapping[engine](\u001b[39mself\u001b[39;49m\u001b[39m.\u001b[39;49mf, \u001b[39m*\u001b[39;49m\u001b[39m*\u001b[39;49m\u001b[39mself\u001b[39;49m\u001b[39m.\u001b[39;49moptions)\n",
      "File \u001b[0;32m/Library/Frameworks/Python.framework/Versions/3.9/lib/python3.9/site-packages/pandas/io/parsers/c_parser_wrapper.py:51\u001b[0m, in \u001b[0;36mCParserWrapper.__init__\u001b[0;34m(self, src, **kwds)\u001b[0m\n\u001b[1;32m     48\u001b[0m kwds[\u001b[39m\"\u001b[39m\u001b[39musecols\u001b[39m\u001b[39m\"\u001b[39m] \u001b[39m=\u001b[39m \u001b[39mself\u001b[39m\u001b[39m.\u001b[39musecols\n\u001b[1;32m     50\u001b[0m \u001b[39m# open handles\u001b[39;00m\n\u001b[0;32m---> 51\u001b[0m \u001b[39mself\u001b[39;49m\u001b[39m.\u001b[39;49m_open_handles(src, kwds)\n\u001b[1;32m     52\u001b[0m \u001b[39massert\u001b[39;00m \u001b[39mself\u001b[39m\u001b[39m.\u001b[39mhandles \u001b[39mis\u001b[39;00m \u001b[39mnot\u001b[39;00m \u001b[39mNone\u001b[39;00m\n\u001b[1;32m     54\u001b[0m \u001b[39m# Have to pass int, would break tests using TextReader directly otherwise :(\u001b[39;00m\n",
      "File \u001b[0;32m/Library/Frameworks/Python.framework/Versions/3.9/lib/python3.9/site-packages/pandas/io/parsers/base_parser.py:222\u001b[0m, in \u001b[0;36mParserBase._open_handles\u001b[0;34m(self, src, kwds)\u001b[0m\n\u001b[1;32m    218\u001b[0m \u001b[39mdef\u001b[39;00m \u001b[39m_open_handles\u001b[39m(\u001b[39mself\u001b[39m, src: FilePathOrBuffer, kwds: \u001b[39mdict\u001b[39m[\u001b[39mstr\u001b[39m, Any]) \u001b[39m-\u001b[39m\u001b[39m>\u001b[39m \u001b[39mNone\u001b[39;00m:\n\u001b[1;32m    219\u001b[0m     \u001b[39m\"\"\"\u001b[39;00m\n\u001b[1;32m    220\u001b[0m \u001b[39m    Let the readers open IOHandles after they are done with their potential raises.\u001b[39;00m\n\u001b[1;32m    221\u001b[0m \u001b[39m    \"\"\"\u001b[39;00m\n\u001b[0;32m--> 222\u001b[0m     \u001b[39mself\u001b[39m\u001b[39m.\u001b[39mhandles \u001b[39m=\u001b[39m get_handle(\n\u001b[1;32m    223\u001b[0m         src,\n\u001b[1;32m    224\u001b[0m         \u001b[39m\"\u001b[39;49m\u001b[39mr\u001b[39;49m\u001b[39m\"\u001b[39;49m,\n\u001b[1;32m    225\u001b[0m         encoding\u001b[39m=\u001b[39;49mkwds\u001b[39m.\u001b[39;49mget(\u001b[39m\"\u001b[39;49m\u001b[39mencoding\u001b[39;49m\u001b[39m\"\u001b[39;49m, \u001b[39mNone\u001b[39;49;00m),\n\u001b[1;32m    226\u001b[0m         compression\u001b[39m=\u001b[39;49mkwds\u001b[39m.\u001b[39;49mget(\u001b[39m\"\u001b[39;49m\u001b[39mcompression\u001b[39;49m\u001b[39m\"\u001b[39;49m, \u001b[39mNone\u001b[39;49;00m),\n\u001b[1;32m    227\u001b[0m         memory_map\u001b[39m=\u001b[39;49mkwds\u001b[39m.\u001b[39;49mget(\u001b[39m\"\u001b[39;49m\u001b[39mmemory_map\u001b[39;49m\u001b[39m\"\u001b[39;49m, \u001b[39mFalse\u001b[39;49;00m),\n\u001b[1;32m    228\u001b[0m         storage_options\u001b[39m=\u001b[39;49mkwds\u001b[39m.\u001b[39;49mget(\u001b[39m\"\u001b[39;49m\u001b[39mstorage_options\u001b[39;49m\u001b[39m\"\u001b[39;49m, \u001b[39mNone\u001b[39;49;00m),\n\u001b[1;32m    229\u001b[0m         errors\u001b[39m=\u001b[39;49mkwds\u001b[39m.\u001b[39;49mget(\u001b[39m\"\u001b[39;49m\u001b[39mencoding_errors\u001b[39;49m\u001b[39m\"\u001b[39;49m, \u001b[39m\"\u001b[39;49m\u001b[39mstrict\u001b[39;49m\u001b[39m\"\u001b[39;49m),\n\u001b[1;32m    230\u001b[0m     )\n",
      "File \u001b[0;32m/Library/Frameworks/Python.framework/Versions/3.9/lib/python3.9/site-packages/pandas/io/common.py:702\u001b[0m, in \u001b[0;36mget_handle\u001b[0;34m(path_or_buf, mode, encoding, compression, memory_map, is_text, errors, storage_options)\u001b[0m\n\u001b[1;32m    697\u001b[0m \u001b[39melif\u001b[39;00m \u001b[39misinstance\u001b[39m(handle, \u001b[39mstr\u001b[39m):\n\u001b[1;32m    698\u001b[0m     \u001b[39m# Check whether the filename is to be opened in binary mode.\u001b[39;00m\n\u001b[1;32m    699\u001b[0m     \u001b[39m# Binary mode does not support 'encoding' and 'newline'.\u001b[39;00m\n\u001b[1;32m    700\u001b[0m     \u001b[39mif\u001b[39;00m ioargs\u001b[39m.\u001b[39mencoding \u001b[39mand\u001b[39;00m \u001b[39m\"\u001b[39m\u001b[39mb\u001b[39m\u001b[39m\"\u001b[39m \u001b[39mnot\u001b[39;00m \u001b[39min\u001b[39;00m ioargs\u001b[39m.\u001b[39mmode:\n\u001b[1;32m    701\u001b[0m         \u001b[39m# Encoding\u001b[39;00m\n\u001b[0;32m--> 702\u001b[0m         handle \u001b[39m=\u001b[39m \u001b[39mopen\u001b[39;49m(\n\u001b[1;32m    703\u001b[0m             handle,\n\u001b[1;32m    704\u001b[0m             ioargs\u001b[39m.\u001b[39;49mmode,\n\u001b[1;32m    705\u001b[0m             encoding\u001b[39m=\u001b[39;49mioargs\u001b[39m.\u001b[39;49mencoding,\n\u001b[1;32m    706\u001b[0m             errors\u001b[39m=\u001b[39;49merrors,\n\u001b[1;32m    707\u001b[0m             newline\u001b[39m=\u001b[39;49m\u001b[39m\"\u001b[39;49m\u001b[39m\"\u001b[39;49m,\n\u001b[1;32m    708\u001b[0m         )\n\u001b[1;32m    709\u001b[0m     \u001b[39melse\u001b[39;00m:\n\u001b[1;32m    710\u001b[0m         \u001b[39m# Binary mode\u001b[39;00m\n\u001b[1;32m    711\u001b[0m         handle \u001b[39m=\u001b[39m \u001b[39mopen\u001b[39m(handle, ioargs\u001b[39m.\u001b[39mmode)\n",
      "\u001b[0;31mNotADirectoryError\u001b[0m: [Errno 20] Not a directory: '/Users/nikhilshukla/Desktop/football-data/src/merge_footystats/merge_data/footystats_data/poland-ekstraklasa-matches-2022-to-2023-stats.csv/Users/nikhilshukla/Desktop/football-data/src/merge_footystats/merge_data/footystats_data/switzerland-super-league-matches-2022-to-2023-stats.csv'"
     ]
    }
   ],
   "source": [
    "for f in csv_files_footystats:\n",
    "    df_footystats = pd.read_csv(f)\n",
    "    country = f.split('/')[-1].split('-')[0].upper()[:3]\n",
    "    odd_path = dict_odds.get(country)\n",
    "    df_odds = pd.read_csv(odd_path)\n",
    "    df_merge = FootyStats.merge_stats_odds(df_footystats, df_odds)\n",
    "    df_merge.to_csv(base_path+('/merge_data/final_merged_data/{}_2022.csv'.format(country)))"
   ]
  },
  {
   "cell_type": "markdown",
   "metadata": {},
   "source": [
    "### Getting Fixtures"
   ]
  },
  {
   "cell_type": "code",
   "execution_count": null,
   "metadata": {},
   "outputs": [],
   "source": [
    "\"\"\"\n",
    "Get all the fixtures from footystats week\n",
    "\"\"\"\n",
    "# use glob to get all the csv files \n",
    "# in the folder\n",
    "base_path = os.getcwd()\n",
    "path_footystats = base_path+('/merge_data/footystats_data/')\n",
    "csv_files_footystats = glob.glob(os.path.join(path_footystats, \"*.csv\"))\n",
    "\n",
    "for f in csv_files_footystats:\n",
    "    df_footystats = pd.read_csv(f)\n",
    "    country = f.split('/')[-1].split('-')[0].upper()[:3]\n",
    "    division = f.split('/')[-1].split('-')[1].upper()[:3]\n",
    "    df_fixtures = FootyStats.get_fixtures(df_footystats)\n",
    "    df_fixtures.to_csv(base_path+('/merge_data/fixtures/fixtures_{}_{}.csv'.format(country,division)))\n"
   ]
  },
  {
   "cell_type": "code",
   "execution_count": null,
   "metadata": {},
   "outputs": [],
   "source": [
    "\"\"\"\n",
    "Merging all the fixtures into one \n",
    "\"\"\"\n",
    "base_path = os.getcwd()\n",
    "path_fixtures = base_path+('/merge_data/fixtures/')\n",
    "csv_files_fixtures = glob.glob(os.path.join(path_fixtures, \"*.csv\"))\n",
    "\n",
    "fixtures = [ pd.read_csv(file) for file in csv_files_fixtures ]\n",
    "result = pd.concat(fixtures)\n",
    "final_fixtures = result.sort_values(['Date'], ascending=True)\n",
    "final_fixtures = final_fixtures[final_fixtures.PSH != 0]\n",
    "for f in csv_files_fixtures:\n",
    "    os.remove(f)\n",
    "final_fixtures.to_csv(path_fixtures+('/fixtures.csv'))"
   ]
  },
  {
   "cell_type": "code",
   "execution_count": null,
   "metadata": {},
   "outputs": [],
   "source": [
    "final_fixtures.drop(['Unnamed: 0'],axis=1,inplace=True)"
   ]
  },
  {
   "cell_type": "code",
   "execution_count": null,
   "metadata": {},
   "outputs": [],
   "source": [
    "#final_fixtures.drop(['Unnamed: 0.1'],axis=1,inplace=True)"
   ]
  },
  {
   "cell_type": "code",
   "execution_count": null,
   "metadata": {},
   "outputs": [],
   "source": [
    "final_fixtures.to_csv(path_fixtures+('/fixtures.csv'))"
   ]
  },
  {
   "cell_type": "markdown",
   "metadata": {},
   "source": [
    "### Merge into Allleagues"
   ]
  },
  {
   "cell_type": "code",
   "execution_count": null,
   "metadata": {},
   "outputs": [],
   "source": [
    "#if you get the invalid ssh url certificate else move on to the next line of code\n",
    "import ssl\n",
    "ssl._create_default_https_context = ssl._create_unverified_context"
   ]
  },
  {
   "cell_type": "code",
   "execution_count": null,
   "metadata": {},
   "outputs": [],
   "source": [
    "import datetime\n",
    "#run only when fixtures are from football data co uk\n",
    "def convert_datetime(df2):    \n",
    "    lst = []\n",
    "    for i in range(len(df2)):\n",
    "        lst.append(datetime.datetime.strptime(df2['Date'].iloc[i], \"%d/%m/%Y\").strftime(\"%Y-%m-%d\")) \n",
    "    new_date = pd.Series(lst)\n",
    "    df2['new_date'] = new_date\n",
    "\n",
    "    # need to drop the old Date to take in the new updated date series\n",
    "    df2.drop('Date',axis =1)\n",
    "    df2 = df2.assign(Date = lambda df: pd.to_datetime(df2.new_date))\n",
    "    df2['Date'] = df2['Date'].dt.date\n",
    "    return df2"
   ]
  },
  {
   "cell_type": "code",
   "execution_count": null,
   "metadata": {},
   "outputs": [],
   "source": [
    "#get allleagues data\n",
    "url = 'https://raw.githubusercontent.com/Ericvolten1/football-data/main/src/all_leagues.csv'\n",
    "allleagues = pd.read_csv(url)"
   ]
  },
  {
   "cell_type": "code",
   "execution_count": null,
   "metadata": {},
   "outputs": [],
   "source": [
    "PATH = os.getcwd()"
   ]
  },
  {
   "cell_type": "code",
   "execution_count": null,
   "metadata": {},
   "outputs": [],
   "source": [
    "belgium_path = PATH + '/merge_data/football_odds_data/B1.csv'\n",
    "bundesliga_path = PATH + '/merge_data/football_odds_data/D1.csv'\n",
    "bundesliga2_path = PATH + '/merge_data/football_odds_data/D2.csv'\n",
    "epl_path = PATH + '/merge_data/football_odds_data/E0.csv'\n",
    "eng_championship_path = PATH + '/merge_data/football_odds_data/E1.csv'\n",
    "eng_leagueone_path = PATH + '/merge_data/football_odds_data/E2.csv'\n",
    "eng_leaguetwo_path = PATH + '/merge_data/football_odds_data/E3.csv'\n",
    "eng_nationalleague_path = PATH + '/merge_data/football_odds_data/EC.csv'\n",
    "ligue1_path = PATH + '/merge_data/football_odds_data/F1.csv'\n",
    "ligue2_path = PATH + '/merge_data/football_odds_data/F2.csv'\n",
    "erdevisie_path = PATH + '/merge_data/football_odds_data/N1.csv'\n",
    "seriea_path = PATH + '/merge_data/football_odds_data/I1.csv'\n",
    "serieb_path = PATH + '/merge_data/football_odds_data/I2.csv'\n",
    "laliga_path = PATH + '/merge_data/football_odds_data/SP1.csv'\n",
    "laliga2_path = PATH + '/merge_data/football_odds_data/SP2.csv'\n",
    "portugal_path = PATH + '/merge_data/football_odds_data/P1.csv'\n",
    "turkey_path = PATH + '/merge_data/football_odds_data/T1.csv'\n",
    "scot_premiership_path = PATH + '/merge_data/football_odds_data/SC0.csv'\n",
    "scot_championship_path = PATH + '/merge_data/football_odds_data/SC1.csv'\n",
    "scot_leagueone_path = PATH + '/merge_data/football_odds_data/SC2.csv'\n",
    "scot_leaguetwo_path = PATH + '/merge_data/football_odds_data/SC3.csv'\n",
    "\n"
   ]
  },
  {
   "cell_type": "code",
   "execution_count": null,
   "metadata": {},
   "outputs": [],
   "source": [
    "belgium = pd.read_csv(belgium_path)\n",
    "bundesliga = pd.read_csv(bundesliga_path)\n",
    "bundesliga2 = pd.read_csv(bundesliga2_path)\n",
    "epl = pd.read_csv(epl_path)\n",
    "eng_championship = pd.read_csv(eng_championship_path)\n",
    "eng_leagueone = pd.read_csv(eng_leagueone_path)\n",
    "ligue1 = pd.read_csv(ligue1_path)\n",
    "ligue2 = pd.read_csv(ligue2_path)\n",
    "erdevisie = pd.read_csv(erdevisie_path)\n",
    "seriea = pd.read_csv(seriea_path)\n",
    "serieb = pd.read_csv(serieb_path)\n",
    "laliga = pd.read_csv(laliga_path)\n",
    "laliga2 = pd.read_csv(laliga2_path)\n",
    "portugal = pd.read_csv(portugal_path)\n",
    "turkey = pd.read_csv(turkey_path)\n",
    "scot_premiership = pd.read_csv(scot_premiership_path)\n",
    "scot_championship = pd.read_csv(scot_championship_path)\n",
    "\n",
    "\n",
    "frames = [belgium,bundesliga,bundesliga2, epl,eng_championship,eng_leagueone,\n",
    "         ligue1,ligue2,erdevisie,seriea,serieb,laliga,laliga2,\n",
    "         portugal,turkey,scot_premiership,scot_championship]\n",
    "updated = [convert_datetime(val) for val in frames]"
   ]
  },
  {
   "cell_type": "code",
   "execution_count": null,
   "metadata": {},
   "outputs": [],
   "source": [
    "final = pd.concat(updated).drop_duplicates().reset_index(drop=True)"
   ]
  },
  {
   "cell_type": "code",
   "execution_count": null,
   "metadata": {},
   "outputs": [],
   "source": [
    "latest_allleagues = pd.concat([allleagues,final]).drop_duplicates().reset_index(drop=True)\n",
    "latest_allleagues.drop(columns=['Unnamed: 0','new_date'],axis =1,inplace=True)"
   ]
  },
  {
   "cell_type": "code",
   "execution_count": null,
   "metadata": {},
   "outputs": [],
   "source": [
    "allleagues_path = PATH + ('/../all_leagues.csv')\n",
    "latest_allleagues.to_csv(allleagues_path)"
   ]
  },
  {
   "cell_type": "markdown",
   "metadata": {},
   "source": [
    "### merging allleagues with footystats data"
   ]
  },
  {
   "cell_type": "code",
   "execution_count": null,
   "metadata": {},
   "outputs": [],
   "source": [
    "allleagues_path = PATH + '/../all_leagues.csv'\n",
    "new_allleagues = pd.read_csv(allleagues_path)"
   ]
  },
  {
   "cell_type": "code",
   "execution_count": null,
   "metadata": {},
   "outputs": [],
   "source": [
    "merged_path = PATH + '/merge_data/final_merged_data/'\n",
    "csv_files_merged = glob.glob(os.path.join(merged_path, \"*.csv\"))\n",
    "new_frames = [pd.read_csv(file) for file in csv_files_merged]\n"
   ]
  },
  {
   "cell_type": "code",
   "execution_count": null,
   "metadata": {},
   "outputs": [],
   "source": [
    "updated_frames = pd.concat(new_frames).drop_duplicates().reset_index(drop=True)"
   ]
  },
  {
   "cell_type": "code",
   "execution_count": null,
   "metadata": {},
   "outputs": [],
   "source": [
    "final_alleagues = pd.concat([new_allleagues,updated_frames]).drop_duplicates().reset_index(drop=True)"
   ]
  },
  {
   "cell_type": "code",
   "execution_count": null,
   "metadata": {},
   "outputs": [],
   "source": [
    "allleagues_path = PATH + ('/../all_leagues.csv')\n",
    "final_alleagues.to_csv(allleagues_path)"
   ]
  }
 ],
 "metadata": {
  "kernelspec": {
   "display_name": "Python 3.9.6 64-bit",
   "language": "python",
   "name": "python3"
  },
  "language_info": {
   "codemirror_mode": {
    "name": "ipython",
    "version": 3
   },
   "file_extension": ".py",
   "mimetype": "text/x-python",
   "name": "python",
   "nbconvert_exporter": "python",
   "pygments_lexer": "ipython3",
   "version": "3.9.6"
  },
  "orig_nbformat": 4,
  "vscode": {
   "interpreter": {
    "hash": "7812ea015bdcee6f23a998adcdd2ef97c151c0c241b7b7070987d9313e41299d"
   }
  }
 },
 "nbformat": 4,
 "nbformat_minor": 2
}
