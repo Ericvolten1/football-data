{
 "cells": [
  {
   "cell_type": "code",
   "execution_count": 1,
   "metadata": {},
   "outputs": [],
   "source": [
    "import pandas as pd\n",
    "import os\n",
    "import glob \n",
    "from datetime import datetime\n"
   ]
  },
  {
   "cell_type": "markdown",
   "metadata": {},
   "source": [
    "##### Generate the columns for merge of footystats and football odds "
   ]
  },
  {
   "cell_type": "code",
   "execution_count": 2,
   "metadata": {},
   "outputs": [],
   "source": [
    "\"\"\" \n",
    "The following columns are not required for analysis.\n",
    "Hence, they are dropped.\n",
    "\"\"\"\n",
    "cols= ['timestamp', 'date_GMT', 'status', 'attendance', \n",
    "       'referee', 'GameWeek', 'Pre-MatchPPG(Home)', 'Pre-MatchPPG(Away)',\n",
    "       'home_ppg', 'away_ppg',  \n",
    "       'home_team_goal_timings', 'away_team_goal_timings',\n",
    "       'home_team_first_half_cards', 'home_team_second_half_cards',\n",
    "       'away_team_first_half_cards', 'away_team_second_half_cards',\n",
    "       'home_team_shots_off_target',\n",
    "       'away_team_shots_off_target',\n",
    "       'home_team_possession', 'away_team_possession', 'team_a_xg',\n",
    "       'team_b_xg', 'average_goals_per_match_pre_match',\n",
    "       'btts_percentage_pre_match', 'over_15_percentage_pre_match',\n",
    "       'over_25_percentage_pre_match', 'over_35_percentage_pre_match',\n",
    "       'over_45_percentage_pre_match', 'over_15_HT_FHG_percentage_pre_match',\n",
    "       'over_05_HT_FHG_percentage_pre_match',\n",
    "       'over_15_2HG_percentage_pre_match', 'over_05_2HG_percentage_pre_match',\n",
    "       'average_corners_per_match_pre_match',\n",
    "       'average_cards_per_match_pre_match', 'odds_ft_home_team_win',\n",
    "       'odds_ft_draw', 'odds_ft_away_team_win', 'odds_ft_over15',\n",
    "       'odds_ft_over25', 'odds_ft_over35', 'odds_ft_over45', 'odds_btts_yes',\n",
    "       'odds_btts_no', 'stadium_name','Country', 'League', 'Season',\n",
    "       'Time', 'HG', 'AG', 'Res', 'MaxH', 'MaxD', 'MaxA']\n",
    "\n",
    "\"\"\" Renaming all the columns as per ML modelling featues\"\"\"\n",
    "\n",
    "dict_merge ={'Home': 'HomeTeam',\n",
    "       'Away': 'AwayTeam',\n",
    "       'home_team_goal_count': 'FTHG',\n",
    "       'away_team_goal_count': 'FTAG',\n",
    "       'home_team_goal_count_half_time': 'HTHG', \n",
    "       'away_team_goal_count_half_time': 'HTAG',\n",
    "       'home_team_shots': 'HS',\n",
    "       'away_team_shots': 'AS',\n",
    "       'home_team_shots_on_target': 'HST',\n",
    "       'away_team_shots_on_target': 'AST',\n",
    "       'home_team_fouls': 'HF',\n",
    "       'away_team_fouls': 'AF',\n",
    "       'home_team_corner_count': 'HC', \n",
    "       'away_team_corner_count': 'AC',\n",
    "       'home_team_yellow_cards': 'HY',\n",
    "       'home_team_red_cards': 'AY',\n",
    "       'away_team_yellow_cards': 'HR',\n",
    "       'away_team_red_cards': 'AR',\n",
    "       'PH': 'PSH', \n",
    "       'PD': 'PSD',\n",
    "       'PA': 'PSA',\n",
    "       'AvgH': 'B365H',\n",
    "       'AvgD': 'B365D',\n",
    "       'AvgA': 'B365A'}"
   ]
  },
  {
   "cell_type": "markdown",
   "metadata": {},
   "source": [
    "##### Generate the columns for generating fixtures from **footystats** "
   ]
  },
  {
   "cell_type": "code",
   "execution_count": 3,
   "metadata": {},
   "outputs": [],
   "source": [
    "\"\"\" these are the fixture columns dropped\"\"\"\n",
    "\n",
    "cols_fix = ['timestamp', 'date_GMT', 'status', 'attendance',\n",
    "       'referee', 'GameWeek', 'Pre-MatchPPG(Home)', 'Pre-MatchPPG(Away)',\n",
    "       'home_ppg', 'away_ppg', 'home_team_goal_count', 'away_team_goal_count',\n",
    "       'total_goal_count', 'total_goals_at_half_time',\n",
    "       'home_team_goal_count_half_time', 'away_team_goal_count_half_time',\n",
    "       'home_team_goal_timings', 'away_team_goal_timings',\n",
    "       'home_team_corner_count', 'away_team_corner_count',\n",
    "       'home_team_yellow_cards', 'home_team_red_cards',\n",
    "       'away_team_yellow_cards', 'away_team_red_cards',\n",
    "       'home_team_first_half_cards', 'home_team_second_half_cards',\n",
    "       'away_team_first_half_cards', 'away_team_second_half_cards',\n",
    "       'home_team_shots', 'away_team_shots', 'home_team_shots_on_target',\n",
    "       'away_team_shots_on_target', 'home_team_shots_off_target',\n",
    "       'away_team_shots_off_target', 'home_team_fouls', 'away_team_fouls',\n",
    "       'home_team_possession', 'away_team_possession', 'team_a_xg',\n",
    "       'team_b_xg', 'average_goals_per_match_pre_match',\n",
    "       'btts_percentage_pre_match', 'over_15_percentage_pre_match',\n",
    "       'over_25_percentage_pre_match', 'over_35_percentage_pre_match',\n",
    "       'over_45_percentage_pre_match', 'over_15_HT_FHG_percentage_pre_match',\n",
    "       'over_05_HT_FHG_percentage_pre_match',\n",
    "       'over_15_2HG_percentage_pre_match', 'over_05_2HG_percentage_pre_match',\n",
    "       'average_corners_per_match_pre_match',\n",
    "       'average_cards_per_match_pre_match', 'odds_ft_over15',\n",
    "       'odds_ft_over25', 'odds_ft_over35', 'odds_ft_over45', 'odds_btts_yes',\n",
    "       'odds_btts_no', 'stadium_name']\n",
    "\n",
    "\"\"\" renaming the columns for generating fixtures\"\"\"\n",
    "dict_fix ={'Home': 'HomeTeam',\n",
    "       'Away': 'AwayTeam',\n",
    "       'odds_ft_home_team_win': 'PSH',\n",
    "       'odds_ft_draw': 'PSD',\n",
    "       'odds_ft_away_team_win': 'PSA'}"
   ]
  },
  {
   "cell_type": "markdown",
   "metadata": {},
   "source": [
    "##### Get all the files in the path (Argentina, Japan, Ireland, Brazil , USA)\n"
   ]
  },
  {
   "cell_type": "code",
   "execution_count": 4,
   "metadata": {},
   "outputs": [],
   "source": [
    "#os.chdir('src/merge_footystats/')\n",
    "PATH = os.getcwd()\n",
    "\n",
    "def datefromtimestamp(timestamp):\n",
    "    date = datetime.utcfromtimestamp(timestamp).strftime('%Y-%m-%d')\n",
    "    return date\n",
    "    \n",
    "class FootyStats:\n",
    "    def __init__(self):\n",
    "        pass\n",
    "\n",
    "    @staticmethod\n",
    "    def merge_stats_odds(_df1:pd.DataFrame, _df2:pd.DataFrame)-> pd.DataFrame:\n",
    "        df1 = _df1\n",
    "        df2 = _df2\n",
    "        _lst = [datefromtimestamp(timestamp) for timestamp in df1['timestamp']]\n",
    "        df1['Date'] = _lst\n",
    "        df1 = df1.assign(Date = lambda df1:pd.to_datetime(df1.Date))\n",
    "        df2 = df2.assign(Date = lambda df2:pd.to_datetime(df2.Date))\n",
    "\n",
    "        \"\"\" format both the dataframes before merging\"\"\"\n",
    "        df1 = df1[df1.status == 'complete']\n",
    "        df1.rename(columns = {'home_team_name':'Home', 'away_team_name':'Away'}, inplace = True)\n",
    "\n",
    "        \"\"\" removing whitespaces\"\"\"\n",
    "        df1.columns = df1.columns.str.replace(' ', '')\n",
    "        df2.columns = df2.columns.str.replace(' ', '')\n",
    "\n",
    "        \"\"\"merge both the dataframes\"\"\"\n",
    "        df = pd.merge(df1, df2,on=['Date','Home','Away'], how = 'inner')\n",
    "\n",
    "        \"\"\" dropping all the un-required cols\"\"\"\n",
    "        df.drop(cols, axis=1, inplace= True)\n",
    "        df.rename(columns=dict_merge,\n",
    "          inplace=True)\n",
    "        return df\n",
    "\n",
    "    @staticmethod\n",
    "    def get_fixtures(df1:pd.DataFrame)-> pd.DataFrame:\n",
    "      \"\"\" generating fixtures from footystats data\"\"\"\n",
    "      df3 = df1\n",
    "      df3 = df3[df3.status == 'incomplete']\n",
    "      _lst = ([ datefromtimestamp(timestamp) for timestamp in df3.timestamp])\n",
    "      df3['Date'] = _lst\n",
    "      df3 = df3.assign(Date = lambda df3:pd.to_datetime(df3.Date))\n",
    "      \n",
    "      df3.rename(columns = {'home_team_name':'Home', 'away_team_name':'Away'}, inplace = True)\n",
    "      df3.columns = df3.columns.str.replace(' ', '')\n",
    "      df3.drop(cols_fix, axis=1, inplace=True)\n",
    "      df3.rename(columns=dict_fix,\n",
    "                inplace=True)\n",
    "\n",
    "      return df3  "
   ]
  },
  {
   "cell_type": "code",
   "execution_count": 5,
   "metadata": {},
   "outputs": [],
   "source": [
    "\"\"\"\n",
    "Get all the merged files generated  from footystats and football data co uk\n",
    "\"\"\"\n",
    "# use glob to get all the csv files \n",
    "# in the folder\n",
    "base_path = os.getcwd()\n",
    "path_footystats = base_path+('/merge_data/footystats_data/')\n",
    "csv_files_footystats = glob.glob(os.path.join(path_footystats, \"*.csv\"))\n",
    "\n",
    "dict_odds = {}\n",
    "path_odds = base_path+('/merge_data/football_odds_data/')\n",
    "csv_files_odds = glob.glob(os.path.join(path_odds, \"*.csv\"))\n",
    "\n",
    "dict_odds = {file.split('/')[-1].split('.')[0]:file for file in csv_files_odds}\n",
    "for f in csv_files_footystats:\n",
    "    df_footystats = pd.read_csv(f)\n",
    "    country = f.split('/')[-1].split('-')[0].upper()[:3]\n",
    "    odd_path = dict_odds.get(country)\n",
    "    df_odds = pd.read_csv(odd_path)\n",
    "    df_merge = FootyStats.merge_stats_odds(df_footystats, df_odds)\n",
    "    df_merge.to_csv(base_path+('/merge_data/final_merged_data/{}_2022.csv'.format(country)))"
   ]
  },
  {
   "cell_type": "code",
   "execution_count": 6,
   "metadata": {},
   "outputs": [
    {
     "name": "stderr",
     "output_type": "stream",
     "text": [
      "/var/folders/c4/r5d56mnd3mqd570blq2lrl6m0000gn/T/ipykernel_32680/113310611.py:44: SettingWithCopyWarning: \n",
      "A value is trying to be set on a copy of a slice from a DataFrame.\n",
      "Try using .loc[row_indexer,col_indexer] = value instead\n",
      "\n",
      "See the caveats in the documentation: https://pandas.pydata.org/pandas-docs/stable/user_guide/indexing.html#returning-a-view-versus-a-copy\n",
      "  df3['Date'] = _lst\n"
     ]
    }
   ],
   "source": [
    "\"\"\"\n",
    "Get all the fixtures from footystats week\n",
    "\"\"\"\n",
    "# use glob to get all the csv files \n",
    "# in the folder\n",
    "base_path = os.getcwd()\n",
    "path_footystats = base_path+('/merge_data/footystats_data/')\n",
    "csv_files_footystats = glob.glob(os.path.join(path_footystats, \"*.csv\"))\n",
    "\n",
    "for f in csv_files_footystats:\n",
    "    df_footystats = pd.read_csv(f)\n",
    "    country = f.split('/')[-1].split('-')[0].upper()[:3]\n",
    "    df_fixtures = FootyStats.get_fixtures(df_footystats)\n",
    "    df_fixtures.to_csv(base_path+('/merge_data/fixtures/fixtures_{}.csv'.format(country)))\n"
   ]
  },
  {
   "cell_type": "code",
   "execution_count": 12,
   "metadata": {},
   "outputs": [],
   "source": [
    "\"\"\"\n",
    "Merging all the fixtures into one \n",
    "\"\"\"\n",
    "base_path = os.getcwd()\n",
    "path_fixtures = base_path+('/merge_data/fixtures/')\n",
    "csv_files_fixtures = glob.glob(os.path.join(path_fixtures, \"*.csv\"))\n",
    "\n",
    "fixtures = [ pd.read_csv(file) for file in csv_files_fixtures ]\n",
    "result = pd.concat(fixtures)\n",
    "final_fixtures = result.sort_values(['Date'], ascending=True)\n",
    "final_fixtures = final_fixtures[final_fixtures.PSH != 0]\n",
    "for f in csv_files_fixtures:\n",
    "    os.remove(f)\n",
    "final_fixtures.to_csv(path_fixtures+('/fixtures.csv'))"
   ]
  }
 ],
 "metadata": {
  "kernelspec": {
   "display_name": "Python 3.9.6 64-bit",
   "language": "python",
   "name": "python3"
  },
  "language_info": {
   "codemirror_mode": {
    "name": "ipython",
    "version": 3
   },
   "file_extension": ".py",
   "mimetype": "text/x-python",
   "name": "python",
   "nbconvert_exporter": "python",
   "pygments_lexer": "ipython3",
   "version": "3.9.6"
  },
  "orig_nbformat": 4,
  "vscode": {
   "interpreter": {
    "hash": "7812ea015bdcee6f23a998adcdd2ef97c151c0c241b7b7070987d9313e41299d"
   }
  }
 },
 "nbformat": 4,
 "nbformat_minor": 2
}
