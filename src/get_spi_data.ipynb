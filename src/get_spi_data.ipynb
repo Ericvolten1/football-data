{
 "cells": [
  {
   "cell_type": "code",
   "execution_count": 1,
   "metadata": {},
   "outputs": [],
   "source": [
    "import requests\n",
    "\"\"\"\n",
    "Get both the data from spi and update the csv\n",
    "\"\"\"\n",
    "csv_url_lst = ['https://projects.fivethirtyeight.com/soccer-api/club/spi_matches.csv', 'https://projects.fivethirtyeight.com/soccer-api/club/spi_matches_latest.csv']\n",
    "for i in range(len(csv_url_lst)):\n",
    "    for csv_url in csv_url_lst:\n",
    "        req = requests.get(csv_url)\n",
    "        url_content = req.content\n",
    "        csv_file = open(csv_url_lst[i].split('/')[-1], 'wb')\n",
    "        csv_file.write(url_content)\n",
    "        csv_file.close()"
   ]
  }
 ],
 "metadata": {
  "kernelspec": {
   "display_name": "Python 3.9.6 64-bit",
   "language": "python",
   "name": "python3"
  },
  "language_info": {
   "codemirror_mode": {
    "name": "ipython",
    "version": 3
   },
   "file_extension": ".py",
   "mimetype": "text/x-python",
   "name": "python",
   "nbconvert_exporter": "python",
   "pygments_lexer": "ipython3",
   "version": "3.9.6"
  },
  "orig_nbformat": 4,
  "vscode": {
   "interpreter": {
    "hash": "7812ea015bdcee6f23a998adcdd2ef97c151c0c241b7b7070987d9313e41299d"
   }
  }
 },
 "nbformat": 4,
 "nbformat_minor": 2
}
